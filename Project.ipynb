{
 "cells": [
  {
   "cell_type": "markdown",
   "id": "2f75fd94",
   "metadata": {},
   "source": [
    "## Project Setup"
   ]
  },
  {
   "cell_type": "code",
   "execution_count": 2,
   "id": "66dcde05",
   "metadata": {},
   "outputs": [],
   "source": [
    "import os\n",
    "import re\n",
    "import bs4\n",
    "import math\n",
    "import requests\n",
    "import warnings\n",
    "import numpy as np\n",
    "import pandas as pd\n",
    "import sqlalchemy as db\n",
    "import geopandas as gpd\n",
    "import matplotlib.pyplot as plt\n",
    "warnings.filterwarnings(\"ignore\")"
   ]
  },
  {
   "cell_type": "code",
   "execution_count": 3,
   "id": "3f1242c4",
   "metadata": {},
   "outputs": [],
   "source": [
    "# the constants\n",
    "\n",
    "TAXI_URL = \"https://www1.nyc.gov/site/tlc/about/tlc-trip-record-data.page\"\n",
    "UBER_CSV = \"uber_rides_sample.csv\"\n",
    "WEATHER_CSV = [\"2009_weather.csv\", \"2010_weather.csv\", \"2011_weather.csv\", \"2012_weather.csv\", \"2013_weather.csv\", \"2014_weather.csv\", \"2015_weather.csv\"]\n",
    "\n",
    "NEW_YORK_BOX_COORDS = ((40.560445, -74.242330), (40.908524, -73.717047))\n",
    "\n",
    "DATABASE_URL = \"sqlite:///project.db\"\n",
    "DATABASE_SCHEMA_FILE = \"schema.sql\"\n",
    "QUERY_DIRECTORY = \"queries\""
   ]
  },
  {
   "cell_type": "markdown",
   "id": "26ad10ea",
   "metadata": {},
   "source": [
    "## Part 1: Data Preprocessing"
   ]
  },
  {
   "cell_type": "markdown",
   "id": "32074561",
   "metadata": {},
   "source": [
    "### Calculating distance\n",
    "\n",
    "The most important thing in a trip is the distance, so we need to calculate the distance from the start to the end of the trip."
   ]
  },
  {
   "cell_type": "code",
   "execution_count": 3,
   "id": "4cbbe6cc",
   "metadata": {},
   "outputs": [],
   "source": [
    "def calculate_distance(from_coord, to_coord):\n",
    "    \"\"\"\n",
    "    Calculate the distance between two coordinates in kilometers.\n",
    "    args:\n",
    "        from_coord: dataframe of columns 'pickup_latitude' and 'pickup_longitude'\n",
    "        to_coord: dataframe of columns 'dropoff_latitude' and 'dropoff_longitude'\n",
    "    returns:\n",
    "        distance in kilometers\n",
    "    \"\"\"\n",
    "    pickup_lat = from_coord['pickup_latitude'].map(math.radians)\n",
    "    pickup_lon = from_coord['pickup_longitude'].map(math.radians)\n",
    "    dropoff_lat = to_coord['dropoff_latitude'].map(math.radians)\n",
    "    dropoff_lon = to_coord['dropoff_longitude'].map(math.radians)\n",
    "    R = 6378.137 # Radius of earth in KM\n",
    "    a = pickup_lat - dropoff_lat\n",
    "    b = pickup_lon - dropoff_lon\n",
    "    c = ((a / 2).map(math.sin)) ** 2 + pickup_lat.map(math.cos) * dropoff_lat.map(math.cos) * ((b / 2).map(math.sin) ** 2)\n",
    "    distance = 2 * R * c.map(math.sqrt).map(math.asin)\n",
    "\n",
    "    return distance.astype('float32')"
   ]
  },
  {
   "cell_type": "code",
   "execution_count": 4,
   "id": "6d6abf52",
   "metadata": {},
   "outputs": [],
   "source": [
    "def add_distance_column(dataframe):\n",
    "    '''\n",
    "    Adds a column to the dataframe with the distance between the pickup and dropoff coordinates.\n",
    "    args:\n",
    "        dataframe: a pandas dataframe with columns \"pickup_latitude\" , \"pickup_longitude\",  \"dropoff_latitude\" and \"dropoff_longitude\"\n",
    "    returns:\n",
    "        a copy of the dataframe with an additional column \"distance\" containing the distance between the pickup and dropoff coordinates\n",
    "    '''\n",
    "\n",
    "    from_coord = dataframe[['pickup_latitude', 'pickup_longitude']]\n",
    "    to_coord = dataframe[['dropoff_latitude', 'dropoff_longitude']]\n",
    "    dataframe['distance'] = calculate_distance(from_coord, to_coord)\n",
    "\n",
    "    # remove any rows where the distance is bigger than 100 km\n",
    "    dataframe = dataframe[dataframe['distance'] < 100]\n",
    "    \n",
    "    return dataframe"
   ]
  },
  {
   "cell_type": "markdown",
   "id": "93daa717",
   "metadata": {},
   "source": [
    "### Processing Taxi Data\n",
    "\n",
    "We will load and clean the yellow taxi data from 2009-01 to 2009-06."
   ]
  },
  {
   "cell_type": "code",
   "execution_count": 5,
   "id": "cbd0d198",
   "metadata": {},
   "outputs": [],
   "source": [
    "def find_taxi_parquet_urls():\n",
    "    '''\n",
    "    Finds the urls of the parquet files for the taxi data.\n",
    "    returns:\n",
    "        a list of urls\n",
    "    '''\n",
    "    strhtml = requests.get(TAXI_URL)\n",
    "    soup = bs4.BeautifulSoup(strhtml.text, \"html.parser\")\n",
    "    links = soup.find_all(\"a\", href=True)\n",
    "\n",
    "    urls = []\n",
    "    for link in links:\n",
    "        # use regular expression to find the links that match the pattern 2009-01~2015-06\n",
    "        if re.search(r\"yellow_tripdata_2009|yellow_tripdata_201[0-4]|yellow_tripdata_2015-0[1-6]\", link.get(\"href\")):\n",
    "            urls.append(link.get(\"href\"))\n",
    "    return urls\n"
   ]
  },
  {
   "cell_type": "code",
   "execution_count": 6,
   "id": "2f40130a",
   "metadata": {},
   "outputs": [],
   "source": [
    "geo = gpd.read_file(filename='taxi_zones.zip', engine='fiona')\n",
    "geo = geo.to_crs(4326)\n",
    "# get the coordinates of the pickup and dropoff locations\n",
    "geo['longitude'] = geo.centroid.x\n",
    "geo['latitude'] = geo.centroid.y\n",
    "# some location IDs are duplicated so those IDs are removed \n",
    "geo.drop_duplicates('LocationID',inplace=True)\n",
    "geo.set_index('LocationID',inplace=True)"
   ]
  },
  {
   "cell_type": "code",
   "execution_count": 7,
   "id": "35c9c0cd",
   "metadata": {},
   "outputs": [],
   "source": [
    "def get_and_clean_month_taxi_data(url):\n",
    "    '''\n",
    "    Downloads the taxi data for a given month and cleans it.\n",
    "    args:\n",
    "        url: the url of the parquet file\n",
    "    returns:\n",
    "        a pandas dataframe with the cleaned data\n",
    "    '''\n",
    "    file_name = url.split('/')[-1]\n",
    "\n",
    "    # download the file if it doesn't exist\n",
    "    if not os.path.exists(file_name):\n",
    "        print(\"downloading\", file_name)\n",
    "        file = requests.get(url)\n",
    "        with open(file_name , \"wb\") as f:\n",
    "            f.write(file.content)\n",
    "\n",
    "    df = pd.read_parquet(file_name)\n",
    "    print(\"cleaning\", file_name)\n",
    "\n",
    "    # looking up the latitude and longitude for some months where only location IDs are given for pickups and dropoffs\n",
    "    if 'PULocationID' in df.columns:\n",
    "        df['pickup_latitude'] = df['PULocationID'].map(geo['latitude'])\n",
    "        df['pickup_longitude'] = df['PULocationID'].map(geo['longitude'])\n",
    "        df['dropoff_latitude'] = df['DOLocationID'].map(geo['latitude'])\n",
    "        df['dropoff_longitude'] = df['DOLocationID'].map(geo['longitude'])\n",
    "\n",
    "    # normalizing column names\n",
    "    df.rename(columns={'tpep_pickup_datetime':'pickup_datetime','Trip_Pickup_DateTime':'pickup_datetime','Trip_Dropoff_DateTime':'dropoff_datetime','Start_Lon':'pickup_longitude', 'Start_Lat':'pickup_latitude', 'End_Lon':'dropoff_longitude', 'End_Lat':'dropoff_latitude','Tip_Amt':'tip_amount'}, inplace=True)\n",
    "\n",
    "    # some location IDs are valid so those specific trips are removed \n",
    "    df.dropna(subset=['pickup_latitude','pickup_longitude','dropoff_latitude','dropoff_longitude'],inplace=True)\n",
    "\n",
    "    # removing unnecessary columns\n",
    "    df = df[['pickup_datetime','pickup_longitude','pickup_latitude','dropoff_longitude','dropoff_latitude','tip_amount']]\n",
    "\n",
    "    # removing invalid data points\n",
    "    df = df[df['tip_amount'] >= 0]\n",
    "\n",
    "    # removing trips that start and/or end outside of the NEW_YORK_BOX_COORDS\n",
    "    df = df[(df['pickup_latitude'] >= NEW_YORK_BOX_COORDS[0][0]) & (df['pickup_latitude'] <= NEW_YORK_BOX_COORDS[1][0])]\n",
    "    df = df[(df['pickup_longitude'] >= NEW_YORK_BOX_COORDS[0][1]) & (df['pickup_longitude'] <= NEW_YORK_BOX_COORDS[1][1])]\n",
    "\n",
    "    # sample the data to make it roughly equal to the size of the Uber dataset\n",
    "    # ~200000 is the number of rows in the Uber dataset\n",
    "    # so every month we sample 200000 / 78 = 2564 rows\n",
    "    df = df.sample(n=2564)\n",
    "\n",
    "    # normalizing and using appropriate column types for the respective data\n",
    "    df['pickup_datetime'] = pd.to_datetime(df['pickup_datetime'])\n",
    "    df = df.astype({'pickup_longitude':'float32','pickup_latitude':'float32','dropoff_longitude':'float32','dropoff_latitude':'float32','tip_amount':'float32'})\n",
    "\n",
    "    return df\n",
    "    "
   ]
  },
  {
   "cell_type": "code",
   "execution_count": 8,
   "id": "9ceee168",
   "metadata": {},
   "outputs": [],
   "source": [
    "def get_and_clean_taxi_data():\n",
    "    '''\n",
    "    Downloads the taxi data and cleans it.\n",
    "    returns:\n",
    "        a pandas dataframe with the cleaned taxi data\n",
    "    '''\n",
    "    all_taxi_dataframes = []\n",
    "    \n",
    "    all_parquet_urls = find_taxi_parquet_urls()\n",
    "    for parquet_url in all_parquet_urls:\n",
    "        dataframe = get_and_clean_month_taxi_data(parquet_url)\n",
    "        add_distance_column(dataframe)\n",
    "\n",
    "        all_taxi_dataframes.append(dataframe)\n",
    "        \n",
    "    # create one gigantic dataframe with data from every month needed\n",
    "    taxi_data = pd.concat(all_taxi_dataframes)\n",
    "    return taxi_data"
   ]
  },
  {
   "cell_type": "markdown",
   "id": "094b4d6d",
   "metadata": {},
   "source": [
    "### Processing Uber Data\n",
    "\n",
    "Now we should process the Uber data. We should make sure that the data is in the same format as the taxi data."
   ]
  },
  {
   "cell_type": "code",
   "execution_count": 9,
   "id": "7c58e3a2",
   "metadata": {},
   "outputs": [],
   "source": [
    "def load_and_clean_uber_data(csv_file):\n",
    "    '''\n",
    "    Loads the Uber data and cleans it.\n",
    "    args:\n",
    "        csv_file: the csv file with the Uber data\n",
    "    returns:\n",
    "        a pandas dataframe with the cleaned Uber data\n",
    "    '''\n",
    "    df = pd.read_csv(csv_file)\n",
    "    print(\"cleaning\", csv_file)\n",
    "    \n",
    "    # removing unnecessary columns\n",
    "    df = df[['pickup_datetime','pickup_longitude','pickup_latitude','dropoff_longitude','dropoff_latitude']]\n",
    "\n",
    "    # removing trips that start and/or end outside of the NEW_YORK_BOX_COORDS\n",
    "    df = df[(df['pickup_latitude'] >= NEW_YORK_BOX_COORDS[0][0]) & (df['pickup_latitude'] <= NEW_YORK_BOX_COORDS[1][0])]\n",
    "    df = df[(df['pickup_longitude'] >= NEW_YORK_BOX_COORDS[0][1]) & (df['pickup_longitude'] <= NEW_YORK_BOX_COORDS[1][1])]\n",
    "\n",
    "    # normalizing and using appropriate column types for the respective data\n",
    "    df['pickup_datetime'] = pd.to_datetime(df['pickup_datetime'])\n",
    "    df = df.astype({'pickup_longitude':'float32','pickup_latitude':'float32','dropoff_longitude':'float32','dropoff_latitude':'float32'})\n",
    "    \n",
    "    return df"
   ]
  },
  {
   "cell_type": "code",
   "execution_count": 10,
   "id": "f836f118",
   "metadata": {},
   "outputs": [],
   "source": [
    "def get_uber_data():\n",
    "    '''\n",
    "    Load Uber data and cleans it.\n",
    "    returns:\n",
    "        a pandas dataframe with the cleaned Uber data\n",
    "    '''\n",
    "    if os.path.exists(UBER_CSV.replace('.csv','_cleaned.csv')):\n",
    "        print(\"reading\", UBER_CSV.replace('.csv','_cleaned.csv'))\n",
    "        return pd.read_csv(UBER_CSV.replace('.csv','_cleaned.csv'))\n",
    "\n",
    "    uber_dataframe = load_and_clean_uber_data(UBER_CSV)\n",
    "    add_distance_column(uber_dataframe)\n",
    "    \n",
    "    return uber_dataframe"
   ]
  },
  {
   "cell_type": "markdown",
   "id": "45a15cbb",
   "metadata": {},
   "source": [
    "### Processing Weather Data\n",
    "\n",
    "We will load and clean the weather data from 2009~2015."
   ]
  },
  {
   "cell_type": "code",
   "execution_count": 11,
   "id": "76e864ab",
   "metadata": {},
   "outputs": [],
   "source": [
    "def clean_month_weather_data_hourly(csv_file):\n",
    "    '''\n",
    "    Loads the weather data and cleans it.\n",
    "    args:\n",
    "        csv_file: the csv file with the weather data\n",
    "    returns:\n",
    "        a pandas dataframe with the cleaned weather data\n",
    "    '''\n",
    "    df = pd.read_csv(csv_file)\n",
    "    \n",
    "    # removing unnecessary columns\n",
    "    df = df[['DATE','HourlyWindSpeed','HourlyPrecipitation']]\n",
    "    \n",
    "    # normalizing and using appropriate column types for the respective data\n",
    "    df['DATE'] = pd.to_datetime(df['DATE'])\n",
    "    df['HourlyPrecipitation'] = pd.to_numeric(df['HourlyPrecipitation'], errors='coerce')\n",
    "\n",
    "    # fill in missing values\n",
    "    mean = int(df['HourlyWindSpeed'].mean())\n",
    "    df['HourlyWindSpeed'].fillna(mean, inplace=True)\n",
    "    df['HourlyPrecipitation'].fillna(0, inplace=True)\n",
    "\n",
    "    df = df.astype({'HourlyWindSpeed': 'int8', 'HourlyPrecipitation': 'float64'})\n",
    "\n",
    "    return df"
   ]
  },
  {
   "cell_type": "code",
   "execution_count": 12,
   "id": "0687581f",
   "metadata": {},
   "outputs": [],
   "source": [
    "def clean_month_weather_data_daily(csv_file):\n",
    "    '''\n",
    "    Loads the weather data and groups it by day.\n",
    "    args:\n",
    "        csv_file: the csv file with the weather data\n",
    "    returns:\n",
    "        a pandas dataframe with the cleaned weather data\n",
    "    '''\n",
    "    df = clean_month_weather_data_hourly(csv_file)\n",
    "\n",
    "    # group by hour and take the mean of the windspeed and sum of the precipitation\n",
    "    df['DATE'] = df['DATE'].dt.date\n",
    "    df = df.groupby('DATE').agg({'HourlyWindSpeed': np.mean, 'HourlyPrecipitation': np.sum})\n",
    "\n",
    "    # normalizing and using appropriate column types for the respective data\n",
    "    df.reset_index(inplace=True)\n",
    "    df['DATE'] = pd.to_datetime(df['DATE'])\n",
    "    df.rename(columns={'HourlyWindSpeed': 'DailyWindSpeed', 'HourlyPrecipitation': 'DailyPrecipitation'}, inplace=True)\n",
    "    df = df.astype({'DailyWindSpeed':'int8','DailyPrecipitation':'float64'})\n",
    "    \n",
    "    return df"
   ]
  },
  {
   "cell_type": "code",
   "execution_count": 13,
   "id": "3ef8945d",
   "metadata": {},
   "outputs": [],
   "source": [
    "def load_and_clean_weather_data():\n",
    "    '''\n",
    "    Loads the weather data and cleans it.\n",
    "    returns:\n",
    "        a pandas dataframe with the cleaned weather data\n",
    "    '''\n",
    "\n",
    "    hourly_dataframes = []\n",
    "    daily_dataframes = []\n",
    "\n",
    "    for csv_file in WEATHER_CSV:\n",
    "        print(\"cleaning\", csv_file)\n",
    "        hourly_dataframe = clean_month_weather_data_hourly(csv_file)\n",
    "        hourly_dataframes.append(hourly_dataframe)\n",
    "        daily_dataframe = clean_month_weather_data_daily(csv_file)\n",
    "        daily_dataframes.append(daily_dataframe)\n",
    "\n",
    "    # create two dataframes with data from every month needed\n",
    "    hourly_data = pd.concat(hourly_dataframes)\n",
    "    daily_data = pd.concat(daily_dataframes)\n",
    "\n",
    "    return hourly_data, daily_data"
   ]
  },
  {
   "cell_type": "markdown",
   "id": "f900f7aa",
   "metadata": {},
   "source": [
    "### Process All Data\n",
    "\n",
    "Now we can process all the data."
   ]
  },
  {
   "cell_type": "code",
   "execution_count": 14,
   "id": "f7cd53a6",
   "metadata": {},
   "outputs": [
    {
     "name": "stdout",
     "output_type": "stream",
     "text": [
      "cleaning yellow_tripdata_2015-01.parquet\n",
      "cleaning yellow_tripdata_2015-02.parquet\n",
      "cleaning yellow_tripdata_2015-03.parquet\n",
      "cleaning yellow_tripdata_2015-04.parquet\n",
      "cleaning yellow_tripdata_2015-05.parquet\n",
      "cleaning yellow_tripdata_2015-06.parquet\n",
      "cleaning yellow_tripdata_2014-01.parquet\n",
      "cleaning yellow_tripdata_2014-02.parquet\n",
      "cleaning yellow_tripdata_2014-03.parquet\n",
      "cleaning yellow_tripdata_2014-04.parquet\n",
      "cleaning yellow_tripdata_2014-05.parquet\n",
      "cleaning yellow_tripdata_2014-06.parquet\n",
      "cleaning yellow_tripdata_2014-07.parquet\n",
      "cleaning yellow_tripdata_2014-08.parquet\n",
      "cleaning yellow_tripdata_2014-09.parquet\n",
      "cleaning yellow_tripdata_2014-10.parquet\n",
      "cleaning yellow_tripdata_2014-11.parquet\n",
      "cleaning yellow_tripdata_2014-12.parquet\n",
      "cleaning yellow_tripdata_2013-01.parquet\n",
      "cleaning yellow_tripdata_2013-02.parquet\n",
      "cleaning yellow_tripdata_2013-03.parquet\n",
      "cleaning yellow_tripdata_2013-04.parquet\n",
      "cleaning yellow_tripdata_2013-05.parquet\n",
      "cleaning yellow_tripdata_2013-06.parquet\n",
      "cleaning yellow_tripdata_2013-07.parquet\n",
      "cleaning yellow_tripdata_2013-08.parquet\n",
      "cleaning yellow_tripdata_2013-09.parquet\n",
      "cleaning yellow_tripdata_2013-10.parquet\n",
      "cleaning yellow_tripdata_2013-11.parquet\n",
      "cleaning yellow_tripdata_2013-12.parquet\n",
      "cleaning yellow_tripdata_2012-01.parquet\n",
      "cleaning yellow_tripdata_2012-02.parquet\n",
      "cleaning yellow_tripdata_2012-03.parquet\n",
      "cleaning yellow_tripdata_2012-04.parquet\n",
      "cleaning yellow_tripdata_2012-05.parquet\n",
      "cleaning yellow_tripdata_2012-06.parquet\n",
      "cleaning yellow_tripdata_2012-07.parquet\n",
      "cleaning yellow_tripdata_2012-08.parquet\n",
      "cleaning yellow_tripdata_2012-09.parquet\n",
      "cleaning yellow_tripdata_2012-10.parquet\n",
      "cleaning yellow_tripdata_2012-11.parquet\n",
      "cleaning yellow_tripdata_2012-12.parquet\n",
      "cleaning yellow_tripdata_2011-01.parquet\n",
      "cleaning yellow_tripdata_2011-02.parquet\n",
      "cleaning yellow_tripdata_2011-03.parquet\n",
      "cleaning yellow_tripdata_2011-04.parquet\n",
      "cleaning yellow_tripdata_2011-05.parquet\n",
      "cleaning yellow_tripdata_2011-06.parquet\n",
      "cleaning yellow_tripdata_2011-07.parquet\n",
      "cleaning yellow_tripdata_2011-08.parquet\n",
      "cleaning yellow_tripdata_2011-09.parquet\n",
      "cleaning yellow_tripdata_2011-10.parquet\n",
      "cleaning yellow_tripdata_2011-11.parquet\n",
      "cleaning yellow_tripdata_2011-12.parquet\n",
      "cleaning yellow_tripdata_2010-01.parquet\n",
      "cleaning yellow_tripdata_2010-02.parquet\n",
      "cleaning yellow_tripdata_2010-03.parquet\n",
      "cleaning yellow_tripdata_2010-04.parquet\n",
      "cleaning yellow_tripdata_2010-05.parquet\n",
      "cleaning yellow_tripdata_2010-06.parquet\n",
      "cleaning yellow_tripdata_2010-07.parquet\n",
      "cleaning yellow_tripdata_2010-08.parquet\n",
      "cleaning yellow_tripdata_2010-09.parquet\n",
      "cleaning yellow_tripdata_2010-10.parquet\n",
      "cleaning yellow_tripdata_2010-11.parquet\n",
      "cleaning yellow_tripdata_2010-12.parquet\n",
      "cleaning yellow_tripdata_2009-01.parquet\n",
      "cleaning yellow_tripdata_2009-02.parquet\n",
      "cleaning yellow_tripdata_2009-03.parquet\n",
      "cleaning yellow_tripdata_2009-04.parquet\n",
      "cleaning yellow_tripdata_2009-05.parquet\n",
      "cleaning yellow_tripdata_2009-06.parquet\n",
      "cleaning yellow_tripdata_2009-07.parquet\n",
      "cleaning yellow_tripdata_2009-08.parquet\n",
      "cleaning yellow_tripdata_2009-09.parquet\n",
      "cleaning yellow_tripdata_2009-10.parquet\n",
      "cleaning yellow_tripdata_2009-11.parquet\n",
      "cleaning yellow_tripdata_2009-12.parquet\n",
      "cleaning uber_rides_sample.csv\n",
      "cleaning 2009_weather.csv\n",
      "cleaning 2010_weather.csv\n",
      "cleaning 2011_weather.csv\n",
      "cleaning 2012_weather.csv\n",
      "cleaning 2013_weather.csv\n",
      "cleaning 2014_weather.csv\n",
      "cleaning 2015_weather.csv\n"
     ]
    }
   ],
   "source": [
    "taxi_data = get_and_clean_taxi_data()\n",
    "uber_data = get_uber_data()\n",
    "hourly_weather_data, daily_weather_data = load_and_clean_weather_data()"
   ]
  },
  {
   "cell_type": "markdown",
   "id": "dd101f11",
   "metadata": {},
   "source": [
    "## Part 2: Storing Cleaned Data\n",
    "\n",
    "When we get the cleaned data, we should store it in a database."
   ]
  },
  {
   "cell_type": "code",
   "execution_count": 4,
   "id": "f3529cf6",
   "metadata": {},
   "outputs": [],
   "source": [
    "engine = db.create_engine(DATABASE_URL)"
   ]
  },
  {
   "cell_type": "code",
   "execution_count": 16,
   "id": "d2bea0ff",
   "metadata": {},
   "outputs": [],
   "source": [
    "HOURLY_WEATHER_SCHEMA = \"\"\"CREATE TABLE IF NOT EXISTS hourly_weather (\n",
    "    id INTEGER PRIMARY KEY AUTOINCREMENT,\n",
    "    DATE DATE,\n",
    "    HourlyWindSpeed INT8,\n",
    "    HourlyPrecipitation FLOAT64\n",
    ");\n",
    "\"\"\"\n",
    "\n",
    "DAILY_WEATHER_SCHEMA = \"\"\"CREATE TABLE IF NOT EXISTS daily_weather (\n",
    "    id INTEGER PRIMARY KEY AUTOINCREMENT,\n",
    "    DATE DATE ,\n",
    "    DailyWindSpeed INT8,\n",
    "    DailyPrecipitation FLOAT64\n",
    ");\n",
    "\"\"\"\n",
    "\n",
    "TAXI_TRIPS_SCHEMA = \"\"\"CREATE TABLE IF NOT EXISTS taxi_trips (\n",
    "    id INTEGER PRIMARY KEY AUTOINCREMENT,\n",
    "    pickup_datetime DATE,\n",
    "    PULocationID INT8,\n",
    "    DOLocationID INT8,\n",
    "    pickup_longitude FLOAT32,\n",
    "    pickup_latitude FLOAT32,\n",
    "    dropoff_longitude FLOAT32,\n",
    "    dropoff_latitude FLOAT32,\n",
    "    tip_amount FLOAT32,\n",
    "    distance FLOAT32\n",
    ");\n",
    "\"\"\"\n",
    "\n",
    "UBER_TRIPS_SCHEMA = \"\"\"CREATE TABLE IF NOT EXISTS uber_trips (\n",
    "    id INTEGER PRIMARY KEY AUTOINCREMENT,\n",
    "    pickup_datetime DATE,\n",
    "    pickup_longitude FLOAT32,\n",
    "    pickup_latitude FLOAT32,\n",
    "    dropoff_longitude FLOAT32,\n",
    "    dropoff_latitude FLOAT32,\n",
    "    distance FLOAT32\n",
    ");\n",
    "\"\"\""
   ]
  },
  {
   "cell_type": "code",
   "execution_count": 17,
   "id": "5f41e54b",
   "metadata": {},
   "outputs": [],
   "source": [
    "# create that required schema.sql file\n",
    "with open(DATABASE_SCHEMA_FILE, \"w\") as f:\n",
    "    f.write(HOURLY_WEATHER_SCHEMA)\n",
    "    f.write(DAILY_WEATHER_SCHEMA)\n",
    "    f.write(TAXI_TRIPS_SCHEMA)\n",
    "    f.write(UBER_TRIPS_SCHEMA)"
   ]
  },
  {
   "cell_type": "code",
   "execution_count": 18,
   "id": "02eccdba",
   "metadata": {},
   "outputs": [],
   "source": [
    "# create the tables with the schema files\n",
    "with engine.connect() as connection:\n",
    "    with open(DATABASE_SCHEMA_FILE, \"r\") as f:\n",
    "        lines = f.readlines()\n",
    "        query = []\n",
    "        for line in lines:\n",
    "            query.append(line)\n",
    "            # if the line is a semicolon, execute the query\n",
    "            if \";\" in line:\n",
    "                connection.execute(db.text(\"\".join(query)))\n",
    "                query = []"
   ]
  },
  {
   "cell_type": "markdown",
   "id": "c122964f",
   "metadata": {},
   "source": [
    "### Add Data to Database\n",
    "\n",
    "After we create the database, we can add the data to it."
   ]
  },
  {
   "cell_type": "code",
   "execution_count": 19,
   "id": "0e68a363",
   "metadata": {},
   "outputs": [],
   "source": [
    "def write_dataframes_to_table(table_to_df_dict):\n",
    "    '''\n",
    "    Writes the dataframes to the database.\n",
    "    args:\n",
    "        table_to_df_dict: a dictionary mapping table names to dataframes\n",
    "    '''\n",
    "    for table, df in table_to_df_dict.items():\n",
    "        print(\"writing\", table)\n",
    "        df.to_sql(table, engine, if_exists='append', index=False)"
   ]
  },
  {
   "cell_type": "code",
   "execution_count": 20,
   "id": "45d6c06c",
   "metadata": {},
   "outputs": [],
   "source": [
    "map_table_name_to_dataframe = {\n",
    "    \"taxi_trips\": taxi_data,\n",
    "    \"uber_trips\": uber_data,\n",
    "    \"hourly_weather\": hourly_weather_data,\n",
    "    \"daily_weather\": daily_weather_data,\n",
    "}"
   ]
  },
  {
   "cell_type": "code",
   "execution_count": 21,
   "id": "74004f96",
   "metadata": {},
   "outputs": [
    {
     "name": "stdout",
     "output_type": "stream",
     "text": [
      "writing taxi_trips\n",
      "writing uber_trips\n",
      "writing hourly_weather\n",
      "writing daily_weather\n"
     ]
    }
   ],
   "source": [
    "write_dataframes_to_table(map_table_name_to_dataframe)"
   ]
  },
  {
   "cell_type": "markdown",
   "id": "8cb6e33e",
   "metadata": {},
   "source": [
    "## Part 3: Understanding the Data\n",
    "\n",
    "After we store the data in the database, we can query the data from the database."
   ]
  },
  {
   "cell_type": "code",
   "execution_count": 8,
   "id": "6a849e92",
   "metadata": {},
   "outputs": [],
   "source": [
    "def write_query_to_file(query, outfile):\n",
    "    '''\n",
    "    Writes the query to the outfile.\n",
    "    args:\n",
    "        query: the query to write\n",
    "        outfile: the name of the file to write to\n",
    "    '''\n",
    "    with open(QUERY_DIRECTORY + '/' + outfile, \"w\") as f:\n",
    "        f.write(query)"
   ]
  },
  {
   "cell_type": "markdown",
   "id": "ee70a777",
   "metadata": {},
   "source": [
    "### Query 1\n",
    "\n",
    "For 01-2009 through 06-2015, we will find the most popular hour of the day to take a yellow taxi."
   ]
  },
  {
   "cell_type": "code",
   "execution_count": 9,
   "id": "db871d3c",
   "metadata": {},
   "outputs": [],
   "source": [
    "QUERY_1 = \"\"\"SELECT strftime('%H', pickup_datetime) AS time, COUNT(*) AS num\n",
    "FROM taxi_trips\n",
    "GROUP BY time\n",
    "ORDER BY num DESC;\n",
    "\"\"\""
   ]
  },
  {
   "cell_type": "code",
   "execution_count": 10,
   "id": "c5275f3a",
   "metadata": {},
   "outputs": [
    {
     "data": {
      "text/plain": [
       "[('19', 12496),\n",
       " ('18', 12078),\n",
       " ('20', 11748),\n",
       " ('21', 11381),\n",
       " ('22', 11109),\n",
       " ('14', 10136),\n",
       " ('17', 9993),\n",
       " ('23', 9890),\n",
       " ('13', 9839),\n",
       " ('12', 9814),\n",
       " ('15', 9641),\n",
       " ('09', 9453),\n",
       " ('11', 9329),\n",
       " ('10', 9091),\n",
       " ('08', 9075),\n",
       " ('16', 8180),\n",
       " ('00', 7758),\n",
       " ('07', 7193),\n",
       " ('01', 5899),\n",
       " ('02', 4427),\n",
       " ('06', 3934),\n",
       " ('03', 3190),\n",
       " ('04', 2381),\n",
       " ('05', 1957)]"
      ]
     },
     "execution_count": 10,
     "metadata": {},
     "output_type": "execute_result"
    }
   ],
   "source": [
    "engine.execute(QUERY_1).fetchall()"
   ]
  },
  {
   "cell_type": "code",
   "execution_count": 11,
   "id": "a2ef04df",
   "metadata": {},
   "outputs": [],
   "source": [
    "write_query_to_file(QUERY_1, \"most_popular_hour.sql\")"
   ]
  },
  {
   "cell_type": "markdown",
   "id": "2d86fd55",
   "metadata": {},
   "source": [
    "### Query 2\n",
    "\n",
    "For 01-2009 through 06-2015, we will find the most popular day of the week to take a yellow taxi."
   ]
  },
  {
   "cell_type": "code",
   "execution_count": 12,
   "id": "79ba2050",
   "metadata": {},
   "outputs": [],
   "source": [
    "QUERY_2 = \"\"\"SELECT strftime('%w', pickup_datetime) AS day, COUNT(*) AS num\n",
    "FROM taxi_trips\n",
    "GROUP BY day\n",
    "ORDER BY num DESC;\n",
    "\"\"\""
   ]
  },
  {
   "cell_type": "code",
   "execution_count": 13,
   "id": "8ac95574",
   "metadata": {},
   "outputs": [
    {
     "data": {
      "text/plain": [
       "[('5', 30884),\n",
       " ('6', 30406),\n",
       " ('4', 30017),\n",
       " ('3', 28705),\n",
       " ('2', 28100),\n",
       " ('0', 26432),\n",
       " ('1', 25448)]"
      ]
     },
     "execution_count": 13,
     "metadata": {},
     "output_type": "execute_result"
    }
   ],
   "source": [
    "engine.execute(QUERY_2).fetchall()"
   ]
  },
  {
   "cell_type": "code",
   "execution_count": 14,
   "id": "059e9eb5",
   "metadata": {},
   "outputs": [],
   "source": [
    "write_query_to_file(QUERY_2, \"most_popular_day.sql\")"
   ]
  },
  {
   "cell_type": "markdown",
   "id": "d555ff11",
   "metadata": {},
   "source": [
    "### Query 3\n",
    "\n",
    "We will find the 95% percentile of distance traveled for all hired trips during July 2013."
   ]
  },
  {
   "cell_type": "code",
   "execution_count": 15,
   "id": "27a6ad58",
   "metadata": {},
   "outputs": [],
   "source": [
    "QUERY_3 = \"\"\"WITH hired_trips AS (SELECT pickup_datetime,distance \n",
    "      FROM taxi_trips \n",
    "      WHERE pickup_datetime BETWEEN '2013-07-01' AND '2013-08-01'\n",
    "      UNION ALL\n",
    "      SELECT pickup_datetime,distance FROM uber_trips\n",
    "      WHERE pickup_datetime BETWEEN '2013-07-01' AND '2013-08-01')\n",
    "SELECT distance\n",
    "FROM hired_trips\n",
    "ORDER BY distance ASC\n",
    "LIMIT 1\n",
    "OFFSET (SELECT COUNT(*) FROM hired_trips) * 95 / 100 - 1 ;\n",
    "\"\"\""
   ]
  },
  {
   "cell_type": "code",
   "execution_count": 16,
   "id": "6ff1b6ca",
   "metadata": {},
   "outputs": [
    {
     "data": {
      "text/plain": [
       "[(10.775696754455566,)]"
      ]
     },
     "execution_count": 16,
     "metadata": {},
     "output_type": "execute_result"
    }
   ],
   "source": [
    "engine.execute(QUERY_3).fetchall()"
   ]
  },
  {
   "cell_type": "code",
   "execution_count": 17,
   "id": "603a40c5",
   "metadata": {},
   "outputs": [],
   "source": [
    "write_query_to_file(QUERY_3, \"95%_percentile_distance.sql\")"
   ]
  },
  {
   "cell_type": "markdown",
   "id": "941343df",
   "metadata": {},
   "source": [
    "### Query 4\n",
    "\n",
    "We will find the top 10 days with the highest number of hired rides for 2009, and the average distance for each day."
   ]
  },
  {
   "cell_type": "code",
   "execution_count": 19,
   "id": "e957f102",
   "metadata": {},
   "outputs": [],
   "source": [
    "QUERY_4 = \"\"\"WITH hired_trips AS (SELECT pickup_datetime,distance \n",
    "      FROM taxi_trips \n",
    "      WHERE pickup_datetime BETWEEN '2009-01-01' AND '2010-01-01'\n",
    "      UNION ALL\n",
    "      SELECT pickup_datetime,distance FROM uber_trips\n",
    "      WHERE pickup_datetime BETWEEN '2009-01-01' AND '2010-01-01'\n",
    ")\n",
    "SELECT date(pickup_datetime) AS date, AVG(distance) AS avg_distance, COUNT(*) AS num\n",
    "FROM hired_trips\n",
    "GROUP BY date\n",
    "ORDER BY num DESC\n",
    "LIMIT 10;\n",
    "\"\"\""
   ]
  },
  {
   "cell_type": "code",
   "execution_count": 20,
   "id": "e99665a7",
   "metadata": {},
   "outputs": [
    {
     "data": {
      "text/plain": [
       "[('2009-12-11', 2.808547719916852, 228),\n",
       " ('2009-08-14', 3.2059291558318557, 226),\n",
       " ('2009-06-05', 2.887434742227197, 225),\n",
       " ('2009-11-06', 3.40713423057749, 217),\n",
       " ('2009-10-23', 2.751567650360273, 216),\n",
       " ('2009-12-05', 2.970049008883016, 215),\n",
       " ('2009-03-06', 2.7032135709980283, 213),\n",
       " ('2009-02-20', 2.9698631424681428, 212),\n",
       " ('2009-01-31', 2.61758047492025, 209),\n",
       " ('2009-12-04', 2.7607149054081392, 208)]"
      ]
     },
     "execution_count": 20,
     "metadata": {},
     "output_type": "execute_result"
    }
   ],
   "source": [
    "engine.execute(QUERY_4).fetchall()"
   ]
  },
  {
   "cell_type": "code",
   "execution_count": 21,
   "id": "093c3fe5",
   "metadata": {},
   "outputs": [],
   "source": [
    "write_query_to_file(QUERY_4, \"top_10_days.sql\")"
   ]
  },
  {
   "cell_type": "markdown",
   "id": "bf2e7515",
   "metadata": {},
   "source": [
    "### Query 5\n",
    "\n",
    "We will find the top 10 windiest days in 2014, and the number of hired trips on those days."
   ]
  },
  {
   "cell_type": "code",
   "execution_count": 22,
   "id": "947c9a9d",
   "metadata": {},
   "outputs": [],
   "source": [
    "QUERY_5 = \"\"\"SELECT date(pickup_datetime) AS date, COUNT(*) AS num\n",
    "FROM (SELECT pickup_datetime FROM taxi_trips\n",
    "      UNION ALL\n",
    "      SELECT pickup_datetime FROM uber_trips)\n",
    "GROUP BY date\n",
    "HAVING date IN (SELECT date(DATE) FROM daily_weather WHERE DATE BETWEEN '2014-01-01' AND '2015-01-01' ORDER BY DailyWindSpeed DESC LIMIT 10)\n",
    "\"\"\""
   ]
  },
  {
   "cell_type": "code",
   "execution_count": 23,
   "id": "90f331c3",
   "metadata": {},
   "outputs": [
    {
     "data": {
      "text/plain": [
       "[('2014-01-02', 121),\n",
       " ('2014-01-03', 92),\n",
       " ('2014-01-07', 165),\n",
       " ('2014-02-13', 130),\n",
       " ('2014-03-13', 195),\n",
       " ('2014-03-26', 185),\n",
       " ('2014-03-29', 211),\n",
       " ('2014-12-07', 172),\n",
       " ('2014-12-08', 174),\n",
       " ('2014-12-09', 153)]"
      ]
     },
     "execution_count": 23,
     "metadata": {},
     "output_type": "execute_result"
    }
   ],
   "source": [
    "engine.execute(QUERY_5).fetchall()"
   ]
  },
  {
   "cell_type": "code",
   "execution_count": 24,
   "id": "6ade1a5f",
   "metadata": {},
   "outputs": [],
   "source": [
    "write_query_to_file(QUERY_5, \"top_10_windiest_days.sql\")"
   ]
  },
  {
   "cell_type": "markdown",
   "id": "7d5ff71a",
   "metadata": {},
   "source": [
    "### Query 6\n",
    "\n",
    "We will find the number of trips taken each hour during the week leading up to Hurricane Sandy(Oct 29-30, 2012), and the hourly precipitation and wind speed during for each hour."
   ]
  },
  {
   "cell_type": "code",
   "execution_count": 26,
   "id": "1f3bba11",
   "metadata": {},
   "outputs": [],
   "source": [
    "QUERY_6 = \"\"\"WITH hired_trips AS (SELECT strftime('%Y-%m-%d %H:00:00:00',pickup_datetime) AS DATE\n",
    "      FROM taxi_trips\n",
    "      WHERE pickup_datetime BETWEEN '2012-10-22' AND '2012-10-31'\n",
    "      UNION ALL\n",
    "      SELECT pickup_datetime FROM uber_trips\n",
    "      WHERE pickup_datetime BETWEEN '2012-10-22' AND '2012-10-31')\n",
    "SELECT strftime('%Y-%m-%d %H:00:00:00',hourly_weather.DATE) AS WDATE, COALESCE(COUNT(hired_trips.DATE),0) AS num, HourlyPrecipitation, HourlyWindSpeed\n",
    "FROM hourly_weather\n",
    "LEFT JOIN hired_trips\n",
    "ON WDATE = hired_trips.DATE\n",
    "WHERE WDATE BETWEEN '2012-10-22' AND '2012-10-31'\n",
    "GROUP BY WDATE\n",
    "\"\"\""
   ]
  },
  {
   "cell_type": "code",
   "execution_count": 27,
   "id": "f1c7d967",
   "metadata": {},
   "outputs": [
    {
     "data": {
      "text/plain": [
       "[('2012-10-22 00:00:00:00', 1, 0.0, 7),\n",
       " ('2012-10-22 01:00:00:00', 2, 0.0, 5),\n",
       " ('2012-10-22 02:00:00:00', 1, 0.0, 7),\n",
       " ('2012-10-22 03:00:00:00', 2, 0.0, 0),\n",
       " ('2012-10-22 04:00:00:00', 1, 0.0, 0),\n",
       " ('2012-10-22 05:00:00:00', 1, 0.0, 0),\n",
       " ('2012-10-22 06:00:00:00', 3, 0.0, 5),\n",
       " ('2012-10-22 07:00:00:00', 1, 0.0, 3),\n",
       " ('2012-10-22 08:00:00:00', 4, 0.0, 3),\n",
       " ('2012-10-22 09:00:00:00', 4, 0.0, 5),\n",
       " ('2012-10-22 10:00:00:00', 3, 0.0, 5),\n",
       " ('2012-10-22 11:00:00:00', 3, 0.0, 5),\n",
       " ('2012-10-22 12:00:00:00', 2, 0.0, 11),\n",
       " ('2012-10-22 13:00:00:00', 1, 0.0, 5),\n",
       " ('2012-10-22 14:00:00:00', 6, 0.0, 7),\n",
       " ('2012-10-22 15:00:00:00', 1, 0.0, 6),\n",
       " ('2012-10-22 16:00:00:00', 5, 0.0, 3),\n",
       " ('2012-10-22 17:00:00:00', 2, 0.0, 7),\n",
       " ('2012-10-22 18:00:00:00', 10, 0.0, 5),\n",
       " ('2012-10-22 19:00:00:00', 11, 0.0, 5),\n",
       " ('2012-10-22 20:00:00:00', 5, 0.0, 3),\n",
       " ('2012-10-22 21:00:00:00', 6, 0.0, 0),\n",
       " ('2012-10-22 22:00:00:00', 6, 0.0, 3),\n",
       " ('2012-10-22 23:00:00:00', 8, 0.0, 3),\n",
       " ('2012-10-23 00:00:00:00', 3, 0.0, 3),\n",
       " ('2012-10-23 01:00:00:00', 1, 0.0, 0),\n",
       " ('2012-10-23 02:00:00:00', 1, 0.0, 3),\n",
       " ('2012-10-23 03:00:00:00', 0, 0.0, 0),\n",
       " ('2012-10-23 04:00:00:00', 1, 0.0, 3),\n",
       " ('2012-10-23 05:00:00:00', 0, 0.0, 0),\n",
       " ('2012-10-23 06:00:00:00', 2, 0.0, 0),\n",
       " ('2012-10-23 07:00:00:00', 6, 0.0, 0),\n",
       " ('2012-10-23 08:00:00:00', 0, 0.0, 0),\n",
       " ('2012-10-23 09:00:00:00', 6, 0.0, 3),\n",
       " ('2012-10-23 10:00:00:00', 3, 0.0, 0),\n",
       " ('2012-10-23 11:00:00:00', 0, 0.0, 3),\n",
       " ('2012-10-23 12:00:00:00', 5, 0.0, 0),\n",
       " ('2012-10-23 13:00:00:00', 5, 0.0, 5),\n",
       " ('2012-10-23 14:00:00:00', 7, 0.0, 5),\n",
       " ('2012-10-23 15:00:00:00', 3, 0.0, 5),\n",
       " ('2012-10-23 16:00:00:00', 3, 0.0, 3),\n",
       " ('2012-10-23 18:00:00:00', 8, 0.0, 5),\n",
       " ('2012-10-23 19:00:00:00', 6, 0.0, 0),\n",
       " ('2012-10-23 20:00:00:00', 7, 0.02, 0),\n",
       " ('2012-10-23 21:00:00:00', 4, 0.0, 5),\n",
       " ('2012-10-23 22:00:00:00', 4, 0.01, 0),\n",
       " ('2012-10-23 23:00:00:00', 6, 0.0, 5),\n",
       " ('2012-10-24 00:00:00:00', 0, 0.0, 3),\n",
       " ('2012-10-24 01:00:00:00', 0, 0.0, 6),\n",
       " ('2012-10-24 02:00:00:00', 0, 0.0, 5),\n",
       " ('2012-10-24 03:00:00:00', 0, 0.0, 7),\n",
       " ('2012-10-24 04:00:00:00', 0, 0.0, 7),\n",
       " ('2012-10-24 05:00:00:00', 0, 0.0, 6),\n",
       " ('2012-10-24 06:00:00:00', 8, 0.0, 5),\n",
       " ('2012-10-24 07:00:00:00', 6, 0.0, 5),\n",
       " ('2012-10-24 08:00:00:00', 2, 0.0, 0),\n",
       " ('2012-10-24 09:00:00:00', 8, 0.0, 0),\n",
       " ('2012-10-24 10:00:00:00', 6, 0.0, 7),\n",
       " ('2012-10-24 11:00:00:00', 3, 0.0, 7),\n",
       " ('2012-10-24 12:00:00:00', 18, 0.0, 8),\n",
       " ('2012-10-24 13:00:00:00', 4, 0.0, 8),\n",
       " ('2012-10-24 14:00:00:00', 8, 0.0, 6),\n",
       " ('2012-10-24 15:00:00:00', 3, 0.0, 7),\n",
       " ('2012-10-24 16:00:00:00', 7, 0.0, 8),\n",
       " ('2012-10-24 17:00:00:00', 7, 0.0, 5),\n",
       " ('2012-10-24 18:00:00:00', 2, 0.0, 7),\n",
       " ('2012-10-24 19:00:00:00', 5, 0.0, 8),\n",
       " ('2012-10-24 20:00:00:00', 8, 0.0, 0),\n",
       " ('2012-10-24 21:00:00:00', 12, 0.0, 3),\n",
       " ('2012-10-24 22:00:00:00', 16, 0.0, 5),\n",
       " ('2012-10-24 23:00:00:00', 10, 0.0, 0),\n",
       " ('2012-10-25 00:00:00:00', 4, 0.0, 6),\n",
       " ('2012-10-25 01:00:00:00', 3, 0.0, 3),\n",
       " ('2012-10-25 02:00:00:00', 4, 0.0, 3),\n",
       " ('2012-10-25 03:00:00:00', 0, 0.0, 6),\n",
       " ('2012-10-25 04:00:00:00', 0, 0.0, 6),\n",
       " ('2012-10-25 05:00:00:00', 0, 0.0, 0),\n",
       " ('2012-10-25 06:00:00:00', 2, 0.0, 5),\n",
       " ('2012-10-25 07:00:00:00', 6, 0.0, 6),\n",
       " ('2012-10-25 08:00:00:00', 4, 0.0, 5),\n",
       " ('2012-10-25 09:00:00:00', 4, 0.0, 3),\n",
       " ('2012-10-25 10:00:00:00', 2, 0.0, 6),\n",
       " ('2012-10-25 11:00:00:00', 2, 0.0, 0),\n",
       " ('2012-10-25 12:00:00:00', 4, 0.0, 6),\n",
       " ('2012-10-25 13:00:00:00', 5, 0.0, 0),\n",
       " ('2012-10-25 14:00:00:00', 7, 0.0, 5),\n",
       " ('2012-10-25 15:00:00:00', 5, 0.0, 5),\n",
       " ('2012-10-25 16:00:00:00', 5, 0.0, 0),\n",
       " ('2012-10-25 17:00:00:00', 5, 0.0, 3),\n",
       " ('2012-10-25 18:00:00:00', 7, 0.0, 0),\n",
       " ('2012-10-25 19:00:00:00', 5, 0.0, 0),\n",
       " ('2012-10-25 20:00:00:00', 9, 0.0, 3),\n",
       " ('2012-10-25 21:00:00:00', 9, 0.0, 3),\n",
       " ('2012-10-25 22:00:00:00', 3, 0.0, 3),\n",
       " ('2012-10-25 23:00:00:00', 16, 0.0, 0),\n",
       " ('2012-10-26 00:00:00:00', 18, 0.0, 0),\n",
       " ('2012-10-26 01:00:00:00', 3, 0.0, 0),\n",
       " ('2012-10-26 02:00:00:00', 1, 0.0, 0),\n",
       " ('2012-10-26 03:00:00:00', 0, 0.0, 3),\n",
       " ('2012-10-26 04:00:00:00', 1, 0.0, 0),\n",
       " ('2012-10-26 05:00:00:00', 0, 0.0, 0),\n",
       " ('2012-10-26 06:00:00:00', 2, 0.0, 0),\n",
       " ('2012-10-26 07:00:00:00', 2, 0.0, 3),\n",
       " ('2012-10-26 08:00:00:00', 6, 0.0, 3),\n",
       " ('2012-10-26 09:00:00:00', 6, 0.0, 3),\n",
       " ('2012-10-26 10:00:00:00', 0, 0.0, 3),\n",
       " ('2012-10-26 11:00:00:00', 5, 0.0, 3),\n",
       " ('2012-10-26 12:00:00:00', 8, 0.0, 0),\n",
       " ('2012-10-26 13:00:00:00', 4, 0.0, 3),\n",
       " ('2012-10-26 14:00:00:00', 3, 0.0, 3),\n",
       " ('2012-10-26 15:00:00:00', 10, 0.0, 0),\n",
       " ('2012-10-26 16:00:00:00', 4, 0.0, 0),\n",
       " ('2012-10-26 17:00:00:00', 3, 0.0, 0),\n",
       " ('2012-10-26 18:00:00:00', 5, 0.0, 0),\n",
       " ('2012-10-26 19:00:00:00', 8, 0.0, 0),\n",
       " ('2012-10-26 20:00:00:00', 10, 0.0, 3),\n",
       " ('2012-10-26 21:00:00:00', 5, 0.0, 3),\n",
       " ('2012-10-26 22:00:00:00', 3, 0.0, 0),\n",
       " ('2012-10-26 23:00:00:00', 12, 0.0, 0),\n",
       " ('2012-10-27 00:00:00:00', 3, 0.0, 3),\n",
       " ('2012-10-27 01:00:00:00', 0, 0.0, 0),\n",
       " ('2012-10-27 02:00:00:00', 2, 0.0, 3),\n",
       " ('2012-10-27 03:00:00:00', 2, 0.0, 0),\n",
       " ('2012-10-27 04:00:00:00', 1, 0.0, 6),\n",
       " ('2012-10-27 05:00:00:00', 1, 0.0, 6),\n",
       " ('2012-10-27 06:00:00:00', 0, 0.0, 6),\n",
       " ('2012-10-27 07:00:00:00', 4, 0.0, 5),\n",
       " ('2012-10-27 08:00:00:00', 6, 0.0, 5),\n",
       " ('2012-10-27 09:00:00:00', 1, 0.0, 6),\n",
       " ('2012-10-27 10:00:00:00', 6, 0.0, 7),\n",
       " ('2012-10-27 11:00:00:00', 8, 0.0, 5),\n",
       " ('2012-10-27 12:00:00:00', 3, 0.0, 8),\n",
       " ('2012-10-27 13:00:00:00', 4, 0.0, 8),\n",
       " ('2012-10-27 14:00:00:00', 2, 0.0, 10),\n",
       " ('2012-10-27 15:00:00:00', 4, 0.0, 10),\n",
       " ('2012-10-27 16:00:00:00', 1, 0.0, 7),\n",
       " ('2012-10-27 17:00:00:00', 1, 0.0, 7),\n",
       " ('2012-10-27 18:00:00:00', 3, 0.0, 7),\n",
       " ('2012-10-27 19:00:00:00', 12, 0.0, 8),\n",
       " ('2012-10-27 20:00:00:00', 3, 0.0, 7),\n",
       " ('2012-10-27 21:00:00:00', 5, 0.0, 9),\n",
       " ('2012-10-27 22:00:00:00', 10, 0.0, 9),\n",
       " ('2012-10-27 23:00:00:00', 22, 0.0, 8),\n",
       " ('2012-10-28 00:00:00:00', 4, 0.0, 11),\n",
       " ('2012-10-28 01:00:00:00', 5, 0.0, 8),\n",
       " ('2012-10-28 02:00:00:00', 13, 0.0, 8),\n",
       " ('2012-10-28 03:00:00:00', 6, 0.0, 9),\n",
       " ('2012-10-28 04:00:00:00', 6, 0.0, 10),\n",
       " ('2012-10-28 05:00:00:00', 1, 0.0, 11),\n",
       " ('2012-10-28 06:00:00:00', 0, 0.0, 10),\n",
       " ('2012-10-28 07:00:00:00', 2, 0.0, 11),\n",
       " ('2012-10-28 08:00:00:00', 3, 0.0, 11),\n",
       " ('2012-10-28 09:00:00:00', 2, 0.0, 11),\n",
       " ('2012-10-28 10:00:00:00', 3, 0.0, 10),\n",
       " ('2012-10-28 11:00:00:00', 5, 0.0, 8),\n",
       " ('2012-10-28 12:00:00:00', 3, 0.0, 7),\n",
       " ('2012-10-28 13:00:00:00', 8, 0.0, 13),\n",
       " ('2012-10-28 14:00:00:00', 4, 0.0, 13),\n",
       " ('2012-10-28 15:00:00:00', 3, 0.0, 13),\n",
       " ('2012-10-28 16:00:00:00', 2, 0.0, 16),\n",
       " ('2012-10-28 17:00:00:00', 3, 0.0, 11),\n",
       " ('2012-10-28 18:00:00:00', 5, 0.0, 15),\n",
       " ('2012-10-28 19:00:00:00', 4, 0.0, 14),\n",
       " ('2012-10-28 20:00:00:00', 2, 0.0, 16),\n",
       " ('2012-10-28 21:00:00:00', 0, 0.0, 14),\n",
       " ('2012-10-28 22:00:00:00', 2, 0.0, 16),\n",
       " ('2012-10-28 23:00:00:00', 2, 0.0, 14),\n",
       " ('2012-10-29 00:00:00:00', 1, 0.0, 16),\n",
       " ('2012-10-29 01:00:00:00', 0, 0.0, 11),\n",
       " ('2012-10-29 02:00:00:00', 2, 0.0, 13),\n",
       " ('2012-10-29 03:00:00:00', 0, 0.0, 17),\n",
       " ('2012-10-29 04:00:00:00', 0, 0.0, 15),\n",
       " ('2012-10-29 05:00:00:00', 0, 0.0, 15),\n",
       " ('2012-10-29 06:00:00:00', 0, 0.02, 16),\n",
       " ('2012-10-29 07:00:00:00', 0, 0.02, 17),\n",
       " ('2012-10-29 08:00:00:00', 1, 0.0, 21),\n",
       " ('2012-10-29 09:00:00:00', 2, 0.0, 16),\n",
       " ('2012-10-29 10:00:00:00', 2, 0.0, 5),\n",
       " ('2012-10-29 11:00:00:00', 8, 0.0, 21),\n",
       " ('2012-10-29 12:00:00:00', 10, 0.02, 15),\n",
       " ('2012-10-29 13:00:00:00', 6, 0.02, 24),\n",
       " ('2012-10-29 14:00:00:00', 0, 0.03, 23),\n",
       " ('2012-10-29 15:00:00:00', 0, 0.07, 26),\n",
       " ('2012-10-29 16:00:00:00', 12, 0.1, 23),\n",
       " ('2012-10-29 17:00:00:00', 8, 0.04, 29),\n",
       " ('2012-10-29 18:00:00:00', 0, 0.02, 21),\n",
       " ('2012-10-29 19:00:00:00', 2, 0.01, 25),\n",
       " ('2012-10-29 20:00:00:00', 0, 0.0, 17),\n",
       " ('2012-10-29 21:00:00:00', 1, 0.0, 15),\n",
       " ('2012-10-29 22:00:00:00', 0, 0.02, 9),\n",
       " ('2012-10-29 23:00:00:00', 0, 0.03, 7),\n",
       " ('2012-10-30 00:00:00:00', 0, 0.03, 13),\n",
       " ('2012-10-30 01:00:00:00', 0, 0.0, 13),\n",
       " ('2012-10-30 02:00:00:00', 0, 0.03, 9),\n",
       " ('2012-10-30 03:00:00:00', 0, 0.04, 17),\n",
       " ('2012-10-30 04:00:00:00', 0, 0.0, 9),\n",
       " ('2012-10-30 05:00:00:00', 0, 0.01, 7),\n",
       " ('2012-10-30 06:00:00:00', 0, 0.01, 7),\n",
       " ('2012-10-30 07:00:00:00', 0, 0.0, 10),\n",
       " ('2012-10-30 08:00:00:00', 4, 0.01, 11),\n",
       " ('2012-10-30 09:00:00:00', 0, 0.01, 15),\n",
       " ('2012-10-30 10:00:00:00', 0, 0.02, 8),\n",
       " ('2012-10-30 11:00:00:00', 1, 0.0, 7),\n",
       " ('2012-10-30 12:00:00:00', 4, 0.0, 9),\n",
       " ('2012-10-30 13:00:00:00', 4, 0.0, 7),\n",
       " ('2012-10-30 14:00:00:00', 3, 0.0, 5),\n",
       " ('2012-10-30 15:00:00:00', 2, 0.0, 5),\n",
       " ('2012-10-30 16:00:00:00', 12, 0.01, 3),\n",
       " ('2012-10-30 17:00:00:00', 2, 0.0, 6),\n",
       " ('2012-10-30 18:00:00:00', 8, 0.0, 5),\n",
       " ('2012-10-30 19:00:00:00', 1, 0.0, 3),\n",
       " ('2012-10-30 20:00:00:00', 4, 0.0, 0),\n",
       " ('2012-10-30 21:00:00:00', 5, 0.0, 5),\n",
       " ('2012-10-30 22:00:00:00', 1, 0.0, 7),\n",
       " ('2012-10-30 23:00:00:00', 3, 0.0, 5)]"
      ]
     },
     "execution_count": 27,
     "metadata": {},
     "output_type": "execute_result"
    }
   ],
   "source": [
    "engine.execute(QUERY_6).fetchall()"
   ]
  },
  {
   "cell_type": "code",
   "execution_count": 28,
   "id": "27b02c3b",
   "metadata": {},
   "outputs": [],
   "source": [
    "write_query_to_file(QUERY_6, \"hurricane_sandy.sql\")"
   ]
  },
  {
   "cell_type": "markdown",
   "id": "a13ced42",
   "metadata": {},
   "source": [
    "## Part 4: Visualizing the Data"
   ]
  },
  {
   "cell_type": "markdown",
   "id": "6d9eef42",
   "metadata": {},
   "source": [
    "### Visualization 1\n",
    "\n",
    "We will create an bar chart to show the most popular hour of the day to take a yellow taxi. The bar chart can show us the relative popularity of each hour."
   ]
  },
  {
   "cell_type": "code",
   "execution_count": 29,
   "id": "0de8394c",
   "metadata": {},
   "outputs": [],
   "source": [
    "def hour_for_taxi_trip(dataframe):\n",
    "    '''\n",
    "    Returns the most popular hour of the day for taxi trips.\n",
    "    args:\n",
    "        dataframe: the taxi dataframe\n",
    "    '''\n",
    "    dataframe.plot(x=\"time\", y=\"num\",kind=\"bar\", title=\"Num of Taxi Trips per Hour\", xlabel=\"Hour\", ylabel=\"Number of Trips\")"
   ]
  },
  {
   "cell_type": "code",
   "execution_count": 30,
   "id": "847ced2f",
   "metadata": {},
   "outputs": [],
   "source": [
    "def get_data_for_visual_1():\n",
    "    '''\n",
    "    Returns the data for the first visualization.\n",
    "    '''\n",
    "    df = pd.read_sql_query(QUERY_1, engine)\n",
    "    return df"
   ]
  },
  {
   "cell_type": "code",
   "execution_count": 31,
   "id": "3c63e845",
   "metadata": {},
   "outputs": [
    {
     "data": {
      "image/png": "[encoded data removed]",
      "text/plain": [
       "<Figure size 640x480 with 1 Axes>"
      ]
     },
     "metadata": {},
     "output_type": "display_data"
    }
   ],
   "source": [
    "some_dataframe = get_data_for_visual_1()\n",
    "hour_for_taxi_trip(some_dataframe.sort_values(by=\"time\", ascending=True))"
   ]
  },
  {
   "cell_type": "markdown",
   "id": "c785a7ab",
   "metadata": {},
   "source": [
    "### Visualization 2\n",
    "\n",
    "We will create an bar chart to show the average distance traveled per month. The bar chart can make us \n"
   ]
  },
  {
   "cell_type": "markdown",
   "id": "ab7c7b1d",
   "metadata": {},
   "source": []
  }
 ],
 "metadata": {
  "kernelspec": {
   "display_name": "Python 3.9.15 64-bit",
   "language": "python",
   "name": "python3"
  },
  "language_info": {
   "codemirror_mode": {
    "name": "ipython",
    "version": 3
   },
   "file_extension": ".py",
   "mimetype": "text/x-python",
   "name": "python",
   "nbconvert_exporter": "python",
   "pygments_lexer": "ipython3",
   "version": "3.9.15"
  },
  "vscode": {
   "interpreter": {
    "hash": "dc50670726e829d05772f0a8941686a10215a3e79c3aeb954cea988b6ae2af0c"
   }
  }
 },
 "nbformat": 4,
 "nbformat_minor": 5
}
