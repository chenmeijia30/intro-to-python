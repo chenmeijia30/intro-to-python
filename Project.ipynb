{
 "cells": [
  {
   "cell_type": "markdown",
   "id": "2f75fd94",
   "metadata": {},
   "source": [
    "## Project Setup"
   ]
  },
  {
   "cell_type": "code",
   "execution_count": 239,
   "id": "66dcde05",
   "metadata": {},
   "outputs": [],
   "source": [
    "import os\n",
    "import re\n",
    "import bs4\n",
    "import math\n",
    "import requests\n",
    "import warnings\n",
    "import numpy as np\n",
    "import pandas as pd\n",
    "import seaborn as sns\n",
    "import sqlalchemy as db\n",
    "import geopandas as gpd\n",
    "import scipy.stats as stats\n",
    "import matplotlib.pyplot as plt\n",
    "warnings.filterwarnings(\"ignore\")"
   ]
  },
  {
   "cell_type": "code",
   "execution_count": 152,
   "id": "3f1242c4",
   "metadata": {},
   "outputs": [],
   "source": [
    "# global variables\n",
    "TAXI_URL = \"https://www1.nyc.gov/site/tlc/about/tlc-trip-record-data.page\"\n",
    "UBER_CSV = \"uber_rides_sample.csv\"\n",
    "WEATHER_CSV = [\"2009_weather.csv\", \"2010_weather.csv\", \"2011_weather.csv\", \"2012_weather.csv\", \"2013_weather.csv\", \"2014_weather.csv\", \"2015_weather.csv\"]\n",
    "\n",
    "NEW_YORK_BOX_COORDS = ((40.560445, -74.242330), (40.908524, -73.717047))\n",
    "\n",
    "DATABASE_URL = \"sqlite:///project.db\"\n",
    "DATABASE_SCHEMA_FILE = \"schema.sql\"\n",
    "QUERY_DIRECTORY = \"\""
   ]
  },
  {
   "cell_type": "code",
   "execution_count": 3,
   "id": "2f40130a",
   "metadata": {},
   "outputs": [],
   "source": [
    "# load the Taxi Zone Shapefile to get the GEOmetry of each zone\n",
    "GEO = gpd.read_file(filename='taxi_zones.zip', engine='fiona')\n",
    "GEO = GEO.to_crs(4326)\n",
    "\n",
    "# get the coordinates of the pickup and dropoff locations\n",
    "GEO['longitude'] = GEO.centroid.x\n",
    "GEO['latitude'] = GEO.centroid.y\n",
    "\n",
    "# some location IDs are duplicated so those IDs are removed \n",
    "GEO.drop_duplicates('LocationID',inplace=True)\n",
    "GEO.set_index('LocationID',inplace=True)"
   ]
  },
  {
   "cell_type": "markdown",
   "id": "26ad10ea",
   "metadata": {},
   "source": [
    "## Part 1: Data Preprocessing\n",
    "\n",
    "In Part1, we will preprocess the data. We will do the following steps:\n",
    "\n",
    "1. Calculate the distance using latitude and longitude.\n",
    "2. Download the yellow_tripdata_yyyy-mm.parquet from the NYC Taxi & Limousine Commission using `requests` library.\n",
    "3. Load and clean the yellow taxi data from 2009-01 to 2015-06.\n",
    "4. Load and clean the uber data.\n",
    "5. Load and clean the weather data from 2009 to 2015."
   ]
  },
  {
   "cell_type": "markdown",
   "id": "32074561",
   "metadata": {},
   "source": [
    "### Calculating distance\n",
    "\n",
    "The most important thing in a trip is the distance, so we need to calculate the distance from the start to the end of the trip. Considering the earth is a sphere, we can use the Haversine formula to calculate the distance. The formula is:\n",
    "\n",
    "$$\n",
    "d = 2r\\arcsin\\left(\\sqrt{\\sin^2\\left(\\frac{\\phi_2-\\phi_1}{2}\\right)+\\cos\\phi_1\\cos\\phi_2\\sin^2\\left(\\frac{\\lambda_2-\\lambda_1}{2}\\right)}\\right)\n",
    "$$\n",
    "\n",
    "The $r$ is the radius of the earth, which is 6371 km. $\\phi$ is the latitude, and $\\lambda$ is the longitude. The formula is from [Wikipedia](https://en.wikipedia.org/wiki/Haversine_formula)."
   ]
  },
  {
   "cell_type": "code",
   "execution_count": 4,
   "id": "4cbbe6cc",
   "metadata": {},
   "outputs": [],
   "source": [
    "def calculate_distance(from_coord: pd.core.frame.DataFrame, to_coord: pd.core.frame.DataFrame) -> pd.core.series.Series:\n",
    "    \"\"\"Calculate the distance between two coordinates in kilometers.\n",
    "\n",
    "    Keyword arguments:\n",
    "    from_coord -- A dataframe of columns 'pickup_latitude' and 'pickup_longitude'\n",
    "    to_coord -- A dataframe of columns 'dropoff_latitude' and 'dropoff_longitude'\n",
    "\n",
    "    Returns:\n",
    "    A series of the distance between the two coordinates in kilometers.\n",
    "    \"\"\"\n",
    "\n",
    "    # convert degree to radian\n",
    "    pickup_lat = from_coord['pickup_latitude'].map(math.radians)\n",
    "    pickup_lon = from_coord['pickup_longitude'].map(math.radians)\n",
    "    dropoff_lat = to_coord['dropoff_latitude'].map(math.radians)\n",
    "    dropoff_lon = to_coord['dropoff_longitude'].map(math.radians)\n",
    "\n",
    "    # calculate the distance\n",
    "    R = 6371 # Radius of earth in KM\n",
    "    a = pickup_lat - dropoff_lat\n",
    "    b = pickup_lon - dropoff_lon\n",
    "    c = ((a / 2).map(math.sin)) ** 2 + pickup_lat.map(math.cos) * dropoff_lat.map(math.cos) * ((b / 2).map(math.sin) ** 2)\n",
    "    distance = 2 * R * c.map(math.sqrt).map(math.asin)\n",
    "    \n",
    "    return distance.astype('float32')"
   ]
  },
  {
   "cell_type": "code",
   "execution_count": 5,
   "id": "6d6abf52",
   "metadata": {},
   "outputs": [],
   "source": [
    "def add_distance_column(df: pd.core.frame.DataFrame) -> pd.core.frame.DataFrame:\n",
    "    '''Add a column to the dataframe with the distance between the pickup and dropoff coordinates.\n",
    "    \n",
    "    Keyword arguments:\n",
    "    df -- A dataframe with columns \"pickup_latitude\" , \"pickup_longitude\",  \"dropoff_latitude\" and \"dropoff_longitude\".\n",
    "\n",
    "    Returns:\n",
    "    A copy of the dataframe with an additional column \"distance\" containing the distance between the pickup and dropoff coordinates\n",
    "    '''\n",
    "\n",
    "    from_coord = df[['pickup_latitude', 'pickup_longitude']]\n",
    "    to_coord = df[['dropoff_latitude', 'dropoff_longitude']]\n",
    "    df['distance'] = calculate_distance(from_coord, to_coord)\n",
    "    \n",
    "    return df"
   ]
  },
  {
   "cell_type": "markdown",
   "id": "93daa717",
   "metadata": {},
   "source": [
    "### Processing Taxi Data\n",
    "\n",
    "We will download, load and clean the yellow taxi data from 2009-01 to 2009-06. \n",
    "\n",
    "At first, we should get the urls to download the data, we can use `requests`, `BeautifulSoup` and `re` to get the urls."
   ]
  },
  {
   "cell_type": "code",
   "execution_count": 6,
   "id": "cbd0d198",
   "metadata": {},
   "outputs": [],
   "source": [
    "def find_taxi_parquet_urls() -> list:\n",
    "    '''Finds the urls of the parquet files for the taxi data.\n",
    "\n",
    "    Returns:\n",
    "    A list of urls that point to the parquet files.\n",
    "    '''\n",
    "\n",
    "    strhtml = requests.get(TAXI_URL)\n",
    "    soup = bs4.BeautifulSoup(strhtml.text, \"html.parser\")\n",
    "    links = soup.find_all(\"a\", href=True)\n",
    "\n",
    "    urls = []\n",
    "    for link in links:\n",
    "        # use regular expression to find the links that match the pattern 2009-01~2015-06\n",
    "        if re.search(r\"yellow_tripdata_2009|yellow_tripdata_201[0-4]|yellow_tripdata_2015-0[1-6]\", link.get(\"href\")):\n",
    "            urls.append(link.get(\"href\"))\n",
    "\n",
    "    return urls\n"
   ]
  },
  {
   "cell_type": "markdown",
   "id": "b7ba35ad",
   "metadata": {},
   "source": [
    "Second, we should download the data from url and save it. Then we can load the data and clean it. We mainly use `pandas` to load and clean the data."
   ]
  },
  {
   "cell_type": "code",
   "execution_count": 13,
   "id": "35c9c0cd",
   "metadata": {},
   "outputs": [],
   "source": [
    "def get_and_clean_month_taxi_data(url: str) -> pd.core.frame.DataFrame:\n",
    "    '''Download,load and clean the taxi data for a given month.\n",
    "    \n",
    "    Keyword arguments:\n",
    "    url -- The url of the parquet file.\n",
    "\n",
    "    Returns:\n",
    "    A pandas dataframe with the cleaned data.\n",
    "    '''\n",
    "\n",
    "    # get file name from url\n",
    "    file_name = url.split('/')[-1]\n",
    "\n",
    "    # download the file if it doesn't exist\n",
    "    if not os.path.exists(file_name):\n",
    "        print(\"downloading\", file_name)\n",
    "        file = requests.get(url)\n",
    "        with open(file_name , \"wb\") as f:\n",
    "            f.write(file.content)\n",
    "\n",
    "    # load the data\n",
    "    df = pd.read_parquet(file_name)\n",
    "    print(\"cleaning\", file_name)\n",
    "\n",
    "    # looking up the latitude and longitude for some months where only location IDs are given for pickups and dropoffs\n",
    "    if 'PULocationID' in df.columns:\n",
    "        df['pickup_latitude'] = df['PULocationID'].map(GEO['latitude'])\n",
    "        df['pickup_longitude'] = df['PULocationID'].map(GEO['longitude'])\n",
    "        df['dropoff_latitude'] = df['DOLocationID'].map(GEO['latitude'])\n",
    "        df['dropoff_longitude'] = df['DOLocationID'].map(GEO['longitude'])\n",
    "\n",
    "    # normalizing column names\n",
    "    df.rename(columns={'tpep_pickup_datetime':'pickup_datetime','Trip_Pickup_DateTime':'pickup_datetime','Trip_Dropoff_DateTime':'dropoff_datetime','Start_Lon':'pickup_longitude', 'Start_Lat':'pickup_latitude', 'End_Lon':'dropoff_longitude', 'End_Lat':'dropoff_latitude','Tip_Amt':'tip_amount'}, inplace=True)\n",
    "\n",
    "    # some location IDs are invalid so those specific trips are removed \n",
    "    df.dropna(subset=['pickup_latitude','pickup_longitude','dropoff_latitude','dropoff_longitude'],inplace=True)\n",
    "\n",
    "    # removing invalid data points\n",
    "    df = df[(df['tip_amount'] >= 0)]\n",
    "\n",
    "    # removing trips that start and/or end outside of the NEW_YORK_BOX_COORDS\n",
    "    df = df[(df['pickup_latitude'] >= NEW_YORK_BOX_COORDS[0][0]) & (df['pickup_latitude'] <= NEW_YORK_BOX_COORDS[1][0])]\n",
    "    df = df[(df['pickup_longitude'] >= NEW_YORK_BOX_COORDS[0][1]) & (df['pickup_longitude'] <= NEW_YORK_BOX_COORDS[1][1])]\n",
    "    df = df[(df['dropoff_latitude'] >= NEW_YORK_BOX_COORDS[0][0]) & (df['dropoff_latitude'] <= NEW_YORK_BOX_COORDS[1][0])]\n",
    "    df = df[(df['dropoff_longitude'] >= NEW_YORK_BOX_COORDS[0][1]) & (df['dropoff_longitude'] <= NEW_YORK_BOX_COORDS[1][1])]\n",
    "\n",
    "    # removing unnecessary columns\n",
    "    df = df[['pickup_datetime','pickup_longitude','pickup_latitude','dropoff_longitude','dropoff_latitude','tip_amount']]\n",
    "\n",
    "    # sample the data to make it roughly equal to the size of the Uber dataset\n",
    "    # ~200000 is the number of rows in the Uber dataset\n",
    "    # so every month we sample 200000 / 78 = 2564 rows\n",
    "    df = df.sample(n=2564)\n",
    "\n",
    "    # normalizing and using appropriate column types for the respective data\n",
    "    df['pickup_datetime'] = pd.to_datetime(df['pickup_datetime'])\n",
    "    df = df.astype({'pickup_longitude':'float32','pickup_latitude':'float32','dropoff_longitude':'float32','dropoff_latitude':'float32','tip_amount':'float32'})\n",
    "\n",
    "    return df"
   ]
  },
  {
   "cell_type": "code",
   "execution_count": 14,
   "id": "9ceee168",
   "metadata": {},
   "outputs": [],
   "source": [
    "def get_and_clean_taxi_data(parquet_urls: list) -> pd.core.frame.DataFrame:\n",
    "    '''Downloads the taxi data and cleans it.\n",
    "\n",
    "    Returns:\n",
    "    A pandas dataframe with the sampled, cleaned taxi data.\n",
    "    '''\n",
    "\n",
    "    all_taxi_dataframes = []\n",
    "    \n",
    "    # loop through all the urls\n",
    "    for parquet_url in parquet_urls:\n",
    "        dataframe = get_and_clean_month_taxi_data(parquet_url)\n",
    "        add_distance_column(dataframe)\n",
    "\n",
    "        all_taxi_dataframes.append(dataframe)\n",
    "        \n",
    "    # create one gigantic dataframe with data from every month needed\n",
    "    taxi_data = pd.concat(all_taxi_dataframes)\n",
    "\n",
    "    return taxi_data"
   ]
  },
  {
   "cell_type": "markdown",
   "id": "094b4d6d",
   "metadata": {},
   "source": [
    "### Processing Uber Data\n",
    "\n",
    "Now we process the Uber data. We should make sure that the data is in the same format as the taxi data."
   ]
  },
  {
   "cell_type": "code",
   "execution_count": 41,
   "id": "7c58e3a2",
   "metadata": {},
   "outputs": [],
   "source": [
    "def load_and_clean_uber_data() -> pd.core.frame.DataFrame:\n",
    "    '''Loads the Uber data and cleans it.\n",
    "\n",
    "    Returns:\n",
    "    A pandas dataframe with the cleaned Uber data.\n",
    "    '''\n",
    "\n",
    "    # load the data\n",
    "    df = pd.read_csv(UBER_CSV)\n",
    "    print(\"cleaning\", UBER_CSV)\n",
    "    \n",
    "    # removing unnecessary columns\n",
    "    df = df[['pickup_datetime','pickup_longitude','pickup_latitude','dropoff_longitude','dropoff_latitude']]\n",
    "\n",
    "    # removing trips that start and/or end outside of the NEW_YORK_BOX_COORDS\n",
    "    df = df[(df['pickup_latitude'] >= NEW_YORK_BOX_COORDS[0][0]) & (df['pickup_latitude'] <= NEW_YORK_BOX_COORDS[1][0])]\n",
    "    df = df[(df['pickup_longitude'] >= NEW_YORK_BOX_COORDS[0][1]) & (df['pickup_longitude'] <= NEW_YORK_BOX_COORDS[1][1])]\n",
    "    df = df[(df['dropoff_latitude'] >= NEW_YORK_BOX_COORDS[0][0]) & (df['dropoff_latitude'] <= NEW_YORK_BOX_COORDS[1][0])]\n",
    "    df = df[(df['dropoff_longitude'] >= NEW_YORK_BOX_COORDS[0][1]) & (df['dropoff_longitude'] <= NEW_YORK_BOX_COORDS[1][1])]\n",
    "\n",
    "    # normalizing and using appropriate column types for the respective data\n",
    "    df['pickup_datetime'] = pd.to_datetime(df['pickup_datetime'])\n",
    "    df = df.astype({'pickup_longitude':'float32','pickup_latitude':'float32','dropoff_longitude':'float32','dropoff_latitude':'float32'})\n",
    "\n",
    "    # add the distance column\n",
    "    add_distance_column(df)\n",
    "    \n",
    "    return df"
   ]
  },
  {
   "cell_type": "markdown",
   "id": "45a15cbb",
   "metadata": {},
   "source": [
    "### Processing Weather Data\n",
    "\n",
    "Now, we will load and clean the weather data from 2009 to 2015. \n",
    "\n",
    "First, we load the hourly weather data."
   ]
  },
  {
   "cell_type": "code",
   "execution_count": 130,
   "id": "76e864ab",
   "metadata": {},
   "outputs": [],
   "source": [
    "def clean_month_weather_data_hourly(csv_file: str) -> pd.core.frame.DataFrame:\n",
    "    '''Loads the weather data and cleans it.\n",
    "    \n",
    "    Keyword arguments:\n",
    "    csv_file -- The csv file with the weather data.\n",
    "\n",
    "    Returns:\n",
    "    A pandas dataframe with the cleaned hourly weather data\n",
    "    '''\n",
    "\n",
    "    # load the data\n",
    "    df = pd.read_csv(csv_file, low_memory=False)\n",
    "    \n",
    "    # remove unnecessary columns\n",
    "    df = df[['DATE','HourlyWindSpeed','HourlyPrecipitation']]\n",
    "\n",
    "    # remove missing values\n",
    "    df.dropna(subset=['HourlyWindSpeed'], inplace=True)\n",
    "\n",
    "    # normalize and use appropriate column types for the respective data\n",
    "    df['DATE'] = pd.to_datetime(df['DATE'])\n",
    "    df['HourlyPrecipitation'] = pd.to_numeric(df['HourlyPrecipitation'], errors='coerce')\n",
    "\n",
    "    # fill in missing values\n",
    "    df['HourlyPrecipitation'].fillna(0, inplace=True)\n",
    "\n",
    "    df = df.astype({'HourlyWindSpeed': 'float32', 'HourlyPrecipitation': 'float32'})\n",
    "\n",
    "    return df"
   ]
  },
  {
   "cell_type": "markdown",
   "id": "bd95343d",
   "metadata": {},
   "source": [
    "Then, we load and clean the daily weather data."
   ]
  },
  {
   "cell_type": "code",
   "execution_count": 139,
   "id": "0687581f",
   "metadata": {},
   "outputs": [],
   "source": [
    "def clean_month_weather_data_daily(csv_file: str) -> tuple[pd.core.frame.DataFrame, pd.core.frame.DataFrame]:\n",
    "    '''Loads the weather data and groups it by day.\n",
    "    \n",
    "    Keyword arguments:\n",
    "    csv_file: the csv file with the weather data\n",
    "\n",
    "    Returns:\n",
    "    A pandas dataframe with the cleaned weather data\n",
    "    '''\n",
    "\n",
    "    # load the data\n",
    "    df = pd.read_csv(csv_file, low_memory=False)\n",
    "    df['DATE'] = pd.to_datetime(df['DATE'])\n",
    "    df['HourlyPrecipitation'] = pd.to_numeric(df['HourlyPrecipitation'], errors='coerce')\n",
    "    df['HourlyPrecipitation'].fillna(0, inplace=True)\n",
    "\n",
    "    # group by hour and take the mean of the windspeed and sum of the precipitation\n",
    "    df['DATE'] = df['DATE'].dt.date\n",
    "    df = df.groupby('DATE', as_index=False).agg({'HourlyWindSpeed': np.mean, 'HourlyPrecipitation': np.sum, 'Sunrise': 'first', 'Sunset': 'first'})\n",
    "    df['HourlyWindSpeed'] = df['HourlyWindSpeed'].map(lambda x: round(x, 2))\n",
    "\n",
    "    # remove unnecessary columns\n",
    "    df_sun = df[['DATE','Sunrise','Sunset']].copy()\n",
    "    df_sun = df_sun.dropna()\n",
    "    df = df[['DATE','HourlyWindSpeed','HourlyPrecipitation']]\n",
    "\n",
    "    # normalize and use appropriate column types for the respective data\n",
    "    df['DATE'] = pd.to_datetime(df['DATE'])\n",
    "    df_sun['DATE'] = pd.to_datetime(df['DATE'])\n",
    "    df.rename(columns={'HourlyWindSpeed': 'DailyWindSpeed', 'HourlyPrecipitation': 'DailyPrecipitation'}, inplace=True)\n",
    "\n",
    "    df_sun = df_sun.astype({'Sunrise': 'int32', 'Sunset': 'int32'})\n",
    "    df = df.astype({'DailyWindSpeed':'float32', 'DailyPrecipitation':'float32'})\n",
    "    \n",
    "    return df, df_sun"
   ]
  },
  {
   "cell_type": "code",
   "execution_count": 132,
   "id": "3ef8945d",
   "metadata": {},
   "outputs": [],
   "source": [
    "def load_and_clean_weather_data():\n",
    "    '''Loads the weather data and cleans it.\n",
    "\n",
    "    Returns:\n",
    "    A dataframe with the cleaned weather data.\n",
    "    '''\n",
    "\n",
    "    hourly_dataframes = []\n",
    "    daily_dataframes = []\n",
    "    sun_dataframes = []\n",
    "\n",
    "    for csv_file in WEATHER_CSV:\n",
    "        print(\"cleaning\", csv_file)\n",
    "        hourly_dataframe = clean_month_weather_data_hourly(csv_file)\n",
    "        hourly_dataframes.append(hourly_dataframe)\n",
    "        daily_dataframe, daily_sun = clean_month_weather_data_daily(csv_file)\n",
    "        sun_dataframes.append(daily_sun)\n",
    "        daily_dataframes.append(daily_dataframe)\n",
    "\n",
    "    # create three dataframes with data from every month needed\n",
    "    hourly_data = pd.concat(hourly_dataframes)\n",
    "    daily_data = pd.concat(daily_dataframes)\n",
    "    sun_data = pd.concat(sun_dataframes)\n",
    "\n",
    "    return hourly_data, daily_data, sun_data"
   ]
  },
  {
   "cell_type": "markdown",
   "id": "f900f7aa",
   "metadata": {},
   "source": [
    "### Process All Data\n",
    "\n",
    "After defining all the functions, we can process all the data."
   ]
  },
  {
   "cell_type": "code",
   "execution_count": 142,
   "id": "f7cd53a6",
   "metadata": {},
   "outputs": [
    {
     "name": "stdout",
     "output_type": "stream",
     "text": [
      "cleaning yellow_tripdata_2015-01.parquet\n",
      "cleaning yellow_tripdata_2015-02.parquet\n",
      "cleaning yellow_tripdata_2015-03.parquet\n",
      "cleaning yellow_tripdata_2015-04.parquet\n",
      "cleaning yellow_tripdata_2015-05.parquet\n",
      "cleaning yellow_tripdata_2015-06.parquet\n",
      "cleaning yellow_tripdata_2014-01.parquet\n",
      "cleaning yellow_tripdata_2014-02.parquet\n",
      "cleaning yellow_tripdata_2014-03.parquet\n",
      "cleaning yellow_tripdata_2014-04.parquet\n",
      "cleaning yellow_tripdata_2014-05.parquet\n",
      "cleaning yellow_tripdata_2014-06.parquet\n",
      "cleaning yellow_tripdata_2014-07.parquet\n",
      "cleaning yellow_tripdata_2014-08.parquet\n",
      "cleaning yellow_tripdata_2014-09.parquet\n",
      "cleaning yellow_tripdata_2014-10.parquet\n",
      "cleaning yellow_tripdata_2014-11.parquet\n",
      "cleaning yellow_tripdata_2014-12.parquet\n",
      "cleaning yellow_tripdata_2013-01.parquet\n",
      "cleaning yellow_tripdata_2013-02.parquet\n",
      "cleaning yellow_tripdata_2013-03.parquet\n",
      "cleaning yellow_tripdata_2013-04.parquet\n",
      "cleaning yellow_tripdata_2013-05.parquet\n",
      "cleaning yellow_tripdata_2013-06.parquet\n",
      "cleaning yellow_tripdata_2013-07.parquet\n",
      "cleaning yellow_tripdata_2013-08.parquet\n",
      "cleaning yellow_tripdata_2013-09.parquet\n",
      "cleaning yellow_tripdata_2013-10.parquet\n",
      "cleaning yellow_tripdata_2013-11.parquet\n",
      "cleaning yellow_tripdata_2013-12.parquet\n",
      "cleaning yellow_tripdata_2012-01.parquet\n",
      "cleaning yellow_tripdata_2012-02.parquet\n",
      "cleaning yellow_tripdata_2012-03.parquet\n",
      "cleaning yellow_tripdata_2012-04.parquet\n",
      "cleaning yellow_tripdata_2012-05.parquet\n",
      "cleaning yellow_tripdata_2012-06.parquet\n",
      "cleaning yellow_tripdata_2012-07.parquet\n",
      "cleaning yellow_tripdata_2012-08.parquet\n",
      "cleaning yellow_tripdata_2012-09.parquet\n",
      "cleaning yellow_tripdata_2012-10.parquet\n",
      "cleaning yellow_tripdata_2012-11.parquet\n",
      "cleaning yellow_tripdata_2012-12.parquet\n",
      "cleaning yellow_tripdata_2011-01.parquet\n",
      "cleaning yellow_tripdata_2011-02.parquet\n",
      "cleaning yellow_tripdata_2011-03.parquet\n",
      "cleaning yellow_tripdata_2011-04.parquet\n",
      "cleaning yellow_tripdata_2011-05.parquet\n",
      "cleaning yellow_tripdata_2011-06.parquet\n",
      "cleaning yellow_tripdata_2011-07.parquet\n",
      "cleaning yellow_tripdata_2011-08.parquet\n",
      "cleaning yellow_tripdata_2011-09.parquet\n",
      "cleaning yellow_tripdata_2011-10.parquet\n",
      "cleaning yellow_tripdata_2011-11.parquet\n",
      "cleaning yellow_tripdata_2011-12.parquet\n",
      "cleaning yellow_tripdata_2010-01.parquet\n",
      "cleaning yellow_tripdata_2010-02.parquet\n",
      "cleaning yellow_tripdata_2010-03.parquet\n",
      "cleaning yellow_tripdata_2010-04.parquet\n",
      "cleaning yellow_tripdata_2010-05.parquet\n",
      "cleaning yellow_tripdata_2010-06.parquet\n",
      "cleaning yellow_tripdata_2010-07.parquet\n",
      "cleaning yellow_tripdata_2010-08.parquet\n",
      "cleaning yellow_tripdata_2010-09.parquet\n",
      "cleaning yellow_tripdata_2010-10.parquet\n",
      "cleaning yellow_tripdata_2010-11.parquet\n",
      "cleaning yellow_tripdata_2010-12.parquet\n",
      "cleaning yellow_tripdata_2009-01.parquet\n",
      "cleaning yellow_tripdata_2009-02.parquet\n",
      "cleaning yellow_tripdata_2009-03.parquet\n",
      "cleaning yellow_tripdata_2009-04.parquet\n",
      "cleaning yellow_tripdata_2009-05.parquet\n",
      "cleaning yellow_tripdata_2009-06.parquet\n",
      "cleaning yellow_tripdata_2009-07.parquet\n",
      "cleaning yellow_tripdata_2009-08.parquet\n",
      "cleaning yellow_tripdata_2009-09.parquet\n",
      "cleaning yellow_tripdata_2009-10.parquet\n",
      "cleaning yellow_tripdata_2009-11.parquet\n",
      "cleaning yellow_tripdata_2009-12.parquet\n",
      "cleaning uber_rides_sample.csv\n",
      "cleaning 2009_weather.csv\n",
      "cleaning 2010_weather.csv\n",
      "cleaning 2011_weather.csv\n",
      "cleaning 2012_weather.csv\n",
      "cleaning 2013_weather.csv\n",
      "cleaning 2014_weather.csv\n",
      "cleaning 2015_weather.csv\n"
     ]
    }
   ],
   "source": [
    "all_parquet_urls = find_taxi_parquet_urls()\n",
    "taxi_data = get_and_clean_taxi_data(all_parquet_urls)\n",
    "uber_data = load_and_clean_uber_data()\n",
    "hourly_weather_data, daily_weather_data, sun_data = load_and_clean_weather_data()"
   ]
  },
  {
   "cell_type": "markdown",
   "id": "dd101f11",
   "metadata": {},
   "source": [
    "## Part 2: Storing Cleaned Data\n",
    "\n",
    "When we get the cleaned data, we should store it in a database. The sqlite is a good database for a small project. We can use `sqlalchemy` to create a database and store the data."
   ]
  },
  {
   "cell_type": "code",
   "execution_count": 143,
   "id": "f3529cf6",
   "metadata": {},
   "outputs": [],
   "source": [
    "engine = db.create_engine(DATABASE_URL)"
   ]
  },
  {
   "cell_type": "markdown",
   "id": "b23d31ae",
   "metadata": {},
   "source": [
    "For each dataframe we have, we should create a corresponding table in the database. The data types of tables should be same as the data types of dataframes."
   ]
  },
  {
   "cell_type": "code",
   "execution_count": 144,
   "id": "d2bea0ff",
   "metadata": {},
   "outputs": [],
   "source": [
    "HOURLY_WEATHER_SCHEMA = \"\"\"CREATE TABLE IF NOT EXISTS hourly_weather (\n",
    "    id INTEGER PRIMARY KEY AUTOINCREMENT,\n",
    "    DATE DATE,\n",
    "    HourlyWindSpeed FLOAT32,\n",
    "    HourlyPrecipitation FLOAT32\n",
    ");\n",
    "\"\"\"\n",
    "\n",
    "DAILY_WEATHER_SCHEMA = \"\"\"CREATE TABLE IF NOT EXISTS daily_weather (\n",
    "    id INTEGER PRIMARY KEY AUTOINCREMENT,\n",
    "    DATE DATE,\n",
    "    DailyWindSpeed FLOAT32,\n",
    "    DailyPrecipitation FLOAT32\n",
    ");\n",
    "\"\"\"\n",
    "\n",
    "TAXI_TRIPS_SCHEMA = \"\"\"CREATE TABLE IF NOT EXISTS taxi_trips (\n",
    "    id INTEGER PRIMARY KEY AUTOINCREMENT,\n",
    "    pickup_datetime DATE,\n",
    "    pickup_longitude FLOAT32,\n",
    "    pickup_latitude FLOAT32,\n",
    "    dropoff_longitude FLOAT32,\n",
    "    dropoff_latitude FLOAT32,\n",
    "    tip_amount FLOAT32,\n",
    "    distance FLOAT32\n",
    ");\n",
    "\"\"\"\n",
    "\n",
    "UBER_TRIPS_SCHEMA = \"\"\"CREATE TABLE IF NOT EXISTS uber_trips (\n",
    "    id INTEGER PRIMARY KEY AUTOINCREMENT,\n",
    "    pickup_datetime DATE,\n",
    "    pickup_longitude FLOAT32,\n",
    "    pickup_latitude FLOAT32,\n",
    "    dropoff_longitude FLOAT32,\n",
    "    dropoff_latitude FLOAT32,\n",
    "    distance FLOAT32\n",
    ");\n",
    "\"\"\"\n",
    "\n",
    "SUN_DATA_SCHEMA = \"\"\"CREATE TABLE IF NOT EXISTS sun_data (\n",
    "    id INTEGER PRIMARY KEY AUTOINCREMENT,\n",
    "    DATE DATE,\n",
    "    Sunrise INT32,\n",
    "    Sunset INT32\n",
    ");\n",
    "\"\"\""
   ]
  },
  {
   "cell_type": "markdown",
   "id": "e8db2ee6",
   "metadata": {},
   "source": [
    "Now, we save the table schema in a file called `schema.sql` for future use."
   ]
  },
  {
   "cell_type": "code",
   "execution_count": 145,
   "id": "5f41e54b",
   "metadata": {},
   "outputs": [],
   "source": [
    "# create that required schema.sql file\n",
    "with open(DATABASE_SCHEMA_FILE, \"w\") as f:\n",
    "    f.write(HOURLY_WEATHER_SCHEMA)\n",
    "    f.write(DAILY_WEATHER_SCHEMA)\n",
    "    f.write(TAXI_TRIPS_SCHEMA)\n",
    "    f.write(UBER_TRIPS_SCHEMA)\n",
    "    f.write(SUN_DATA_SCHEMA)"
   ]
  },
  {
   "cell_type": "markdown",
   "id": "02bbf952",
   "metadata": {},
   "source": [
    "Then, we create tables in the database from the schema file."
   ]
  },
  {
   "cell_type": "code",
   "execution_count": 146,
   "id": "02eccdba",
   "metadata": {},
   "outputs": [],
   "source": [
    "# create the tables with the schema files\n",
    "with engine.connect() as connection:\n",
    "    with open(DATABASE_SCHEMA_FILE, \"r\") as f:\n",
    "        lines = f.readlines()\n",
    "        query = []\n",
    "        for line in lines:\n",
    "            query.append(line)\n",
    "            # if the line is a semicolon, execute the query\n",
    "            if \";\" in line:\n",
    "                connection.execute(db.text(\"\".join(query)))\n",
    "                query = []"
   ]
  },
  {
   "cell_type": "markdown",
   "id": "c122964f",
   "metadata": {},
   "source": [
    "### Add Data to Database\n",
    "\n",
    "After we create the database, we can add the data to it."
   ]
  },
  {
   "cell_type": "code",
   "execution_count": 148,
   "id": "0e68a363",
   "metadata": {},
   "outputs": [
    {
     "name": "stdout",
     "output_type": "stream",
     "text": [
      "writing taxi_trips\n",
      "writing uber_trips\n",
      "writing hourly_weather\n",
      "writing daily_weather\n",
      "writing sun_data\n"
     ]
    }
   ],
   "source": [
    "map_table_name_to_dataframe = {\n",
    "    \"taxi_trips\": taxi_data,\n",
    "    \"uber_trips\": uber_data,\n",
    "    \"hourly_weather\": hourly_weather_data,\n",
    "    \"daily_weather\": daily_weather_data,\n",
    "    \"sun_data\": sun_data\n",
    "}\n",
    "\n",
    "for table, df in map_table_name_to_dataframe.items():\n",
    "    print(\"writing\", table)\n",
    "    df.to_sql(table, engine, if_exists='append', index=False)"
   ]
  },
  {
   "cell_type": "markdown",
   "id": "8cb6e33e",
   "metadata": {},
   "source": [
    "## Part 3: Understanding the Data\n",
    "\n",
    "After we store the data in the database, we can query the data from the database."
   ]
  },
  {
   "cell_type": "code",
   "execution_count": 154,
   "id": "6a849e92",
   "metadata": {},
   "outputs": [],
   "source": [
    "def write_query_to_file(query: str, outfile: str):\n",
    "    '''Writes the query to the outfile.\n",
    "\n",
    "    Keyword arguments:\n",
    "    query -- The query to write.\n",
    "    outfile -- The name of the file to write to.\n",
    "    '''\n",
    "\n",
    "    with open(QUERY_DIRECTORY + outfile, \"w\") as f:\n",
    "        f.write(query)"
   ]
  },
  {
   "cell_type": "markdown",
   "id": "ee70a777",
   "metadata": {},
   "source": [
    "### Query 1\n",
    "\n",
    "For 01-2009 through 06-2015, we will find the most popular hour of the day to take a yellow taxi."
   ]
  },
  {
   "cell_type": "code",
   "execution_count": 155,
   "id": "db871d3c",
   "metadata": {},
   "outputs": [],
   "source": [
    "QUERY_1 = \"\"\"SELECT strftime('%H', pickup_datetime) AS time, COUNT(*) AS num\n",
    "FROM taxi_trips\n",
    "GROUP BY time\n",
    "ORDER BY num DESC;\n",
    "\"\"\""
   ]
  },
  {
   "cell_type": "code",
   "execution_count": 156,
   "id": "c5275f3a",
   "metadata": {},
   "outputs": [
    {
     "data": {
      "text/plain": [
       "[('19', 12666),\n",
       " ('18', 11998),\n",
       " ('20', 11711),\n",
       " ('21', 11477),\n",
       " ('22', 11040),\n",
       " ('17', 9988),\n",
       " ('14', 9947),\n",
       " ('13', 9816),\n",
       " ('12', 9772),\n",
       " ('23', 9758),\n",
       " ('15', 9681),\n",
       " ('11', 9360),\n",
       " ('09', 9333),\n",
       " ('08', 9161),\n",
       " ('10', 9063),\n",
       " ('16', 8315),\n",
       " ('00', 7808),\n",
       " ('07', 7318),\n",
       " ('01', 5782),\n",
       " ('02', 4419),\n",
       " ('06', 4088),\n",
       " ('03', 3194),\n",
       " ('04', 2334),\n",
       " ('05', 1963)]"
      ]
     },
     "execution_count": 156,
     "metadata": {},
     "output_type": "execute_result"
    }
   ],
   "source": [
    "engine.execute(QUERY_1).fetchall()"
   ]
  },
  {
   "cell_type": "code",
   "execution_count": 157,
   "id": "a2ef04df",
   "metadata": {},
   "outputs": [],
   "source": [
    "write_query_to_file(QUERY_1, \"most_popular_hour.sql\")"
   ]
  },
  {
   "cell_type": "markdown",
   "id": "2d86fd55",
   "metadata": {},
   "source": [
    "### Query 2\n",
    "\n",
    "For 01-2009 through 06-2015, we will find the most popular day of the week to take a uber."
   ]
  },
  {
   "cell_type": "code",
   "execution_count": 161,
   "id": "79ba2050",
   "metadata": {},
   "outputs": [],
   "source": [
    "QUERY_2 = \"\"\"SELECT strftime('%w', pickup_datetime) AS day, COUNT(*) AS num\n",
    "FROM uber_trips\n",
    "GROUP BY day\n",
    "ORDER BY num DESC;\n",
    "\"\"\""
   ]
  },
  {
   "cell_type": "code",
   "execution_count": 162,
   "id": "8ac95574",
   "metadata": {},
   "outputs": [
    {
     "data": {
      "text/plain": [
       "[('5', 30166),\n",
       " ('6', 29599),\n",
       " ('4', 29338),\n",
       " ('3', 28328),\n",
       " ('2', 27526),\n",
       " ('0', 25834),\n",
       " ('1', 24681)]"
      ]
     },
     "execution_count": 162,
     "metadata": {},
     "output_type": "execute_result"
    }
   ],
   "source": [
    "engine.execute(QUERY_2).fetchall()"
   ]
  },
  {
   "cell_type": "code",
   "execution_count": 163,
   "id": "059e9eb5",
   "metadata": {},
   "outputs": [],
   "source": [
    "write_query_to_file(QUERY_2, \"most_popular_day.sql\")"
   ]
  },
  {
   "cell_type": "markdown",
   "id": "d555ff11",
   "metadata": {},
   "source": [
    "### Query 3\n",
    "\n",
    "We will find the 95% percentile of distance traveled for all hired trips during July 2013."
   ]
  },
  {
   "cell_type": "code",
   "execution_count": 164,
   "id": "27a6ad58",
   "metadata": {},
   "outputs": [],
   "source": [
    "QUERY_3 = \"\"\"WITH hired_trips AS (SELECT pickup_datetime,distance \n",
    "      FROM taxi_trips \n",
    "      WHERE pickup_datetime BETWEEN '2013-07-01' AND '2013-08-01'\n",
    "      UNION ALL\n",
    "      SELECT pickup_datetime,distance FROM uber_trips\n",
    "      WHERE pickup_datetime BETWEEN '2013-07-01' AND '2013-08-01')\n",
    "SELECT distance\n",
    "FROM hired_trips\n",
    "ORDER BY distance ASC\n",
    "LIMIT 1\n",
    "OFFSET (SELECT COUNT(*) FROM hired_trips) * 95 / 100 - 1 ;\n",
    "\"\"\""
   ]
  },
  {
   "cell_type": "code",
   "execution_count": 165,
   "id": "6ff1b6ca",
   "metadata": {},
   "outputs": [
    {
     "data": {
      "text/plain": [
       "[(10.46220588684082,)]"
      ]
     },
     "execution_count": 165,
     "metadata": {},
     "output_type": "execute_result"
    }
   ],
   "source": [
    "engine.execute(QUERY_3).fetchall()"
   ]
  },
  {
   "cell_type": "code",
   "execution_count": 166,
   "id": "603a40c5",
   "metadata": {},
   "outputs": [],
   "source": [
    "write_query_to_file(QUERY_3, \"95%_percentile_distance.sql\")"
   ]
  },
  {
   "cell_type": "markdown",
   "id": "941343df",
   "metadata": {},
   "source": [
    "### Query 4\n",
    "\n",
    "We will find the top 10 days with the highest number of hired rides for 2009, and the average distance for each day."
   ]
  },
  {
   "cell_type": "code",
   "execution_count": 167,
   "id": "e957f102",
   "metadata": {},
   "outputs": [],
   "source": [
    "QUERY_4 = \"\"\"WITH hired_trips AS (SELECT pickup_datetime,distance \n",
    "      FROM taxi_trips \n",
    "      WHERE pickup_datetime BETWEEN '2009-01-01' AND '2010-01-01'\n",
    "      UNION ALL\n",
    "      SELECT pickup_datetime,distance FROM uber_trips\n",
    "      WHERE pickup_datetime BETWEEN '2009-01-01' AND '2010-01-01'\n",
    ")\n",
    "SELECT date(pickup_datetime) AS date, AVG(distance) AS avg_distance, COUNT(*) AS num\n",
    "FROM hired_trips\n",
    "GROUP BY date\n",
    "ORDER BY num DESC\n",
    "LIMIT 10;\n",
    "\"\"\""
   ]
  },
  {
   "cell_type": "code",
   "execution_count": 168,
   "id": "e99665a7",
   "metadata": {},
   "outputs": [
    {
     "data": {
      "text/plain": [
       "[('2009-12-11', 3.1245117914064364, 228),\n",
       " ('2009-04-04', 3.2002172607379697, 224),\n",
       " ('2009-04-03', 2.9641117638766277, 218),\n",
       " ('2009-04-30', 3.2696822893232347, 216),\n",
       " ('2009-12-05', 2.8886539005912666, 215),\n",
       " ('2009-10-23', 2.7266424295609974, 214),\n",
       " ('2009-07-23', 3.3037322535125826, 208),\n",
       " ('2009-03-12', 3.379127107963002, 206),\n",
       " ('2009-11-06', 3.4460663164176455, 205),\n",
       " ('2009-05-16', 3.0185530375325826, 205)]"
      ]
     },
     "execution_count": 168,
     "metadata": {},
     "output_type": "execute_result"
    }
   ],
   "source": [
    "engine.execute(QUERY_4).fetchall()"
   ]
  },
  {
   "cell_type": "code",
   "execution_count": 169,
   "id": "093c3fe5",
   "metadata": {},
   "outputs": [],
   "source": [
    "write_query_to_file(QUERY_4, \"top_10_days.sql\")"
   ]
  },
  {
   "cell_type": "markdown",
   "id": "bf2e7515",
   "metadata": {},
   "source": [
    "### Query 5\n",
    "\n",
    "We will find the top 10 windiest days in 2014, and the number of hired trips on those days."
   ]
  },
  {
   "cell_type": "code",
   "execution_count": 170,
   "id": "947c9a9d",
   "metadata": {},
   "outputs": [],
   "source": [
    "QUERY_5 = \"\"\"SELECT date(pickup_datetime) AS date, COUNT(*) AS num, \n",
    "FROM (SELECT pickup_datetime FROM taxi_trips\n",
    "      UNION ALL\n",
    "      SELECT pickup_datetime FROM uber_trips)\n",
    "GROUP BY date\n",
    "HAVING date IN (SELECT date(DATE) FROM daily_weather WHERE DATE BETWEEN '2014-01-01' AND '2015-01-01' ORDER BY DailyWindSpeed DESC LIMIT 10)\n",
    "\"\"\""
   ]
  },
  {
   "cell_type": "code",
   "execution_count": 171,
   "id": "90f331c3",
   "metadata": {},
   "outputs": [
    {
     "data": {
      "text/plain": [
       "[('2014-01-02', 142),\n",
       " ('2014-01-07', 174),\n",
       " ('2014-02-13', 137),\n",
       " ('2014-03-13', 206),\n",
       " ('2014-03-26', 184),\n",
       " ('2014-03-29', 200),\n",
       " ('2014-11-02', 163),\n",
       " ('2014-12-07', 161),\n",
       " ('2014-12-08', 150),\n",
       " ('2014-12-09', 149)]"
      ]
     },
     "execution_count": 171,
     "metadata": {},
     "output_type": "execute_result"
    }
   ],
   "source": [
    "engine.execute(QUERY_5).fetchall()"
   ]
  },
  {
   "cell_type": "code",
   "execution_count": 172,
   "id": "6ade1a5f",
   "metadata": {},
   "outputs": [],
   "source": [
    "write_query_to_file(QUERY_5, \"top_10_windiest_days.sql\")"
   ]
  },
  {
   "cell_type": "markdown",
   "id": "7d5ff71a",
   "metadata": {},
   "source": [
    "### Query 6\n",
    "\n",
    "We will find the number of trips taken each hour during the week leading up to Hurricane Sandy(Oct 29-30, 2012), and the hourly precipitation and wind speed during for each hour."
   ]
  },
  {
   "cell_type": "code",
   "execution_count": 173,
   "id": "1f3bba11",
   "metadata": {},
   "outputs": [],
   "source": [
    "QUERY_6 = \"\"\"WITH hired_trips AS (SELECT strftime('%Y-%m-%d %H:00:00:00',pickup_datetime) AS DATE\n",
    "      FROM taxi_trips\n",
    "      WHERE pickup_datetime BETWEEN '2012-10-22' AND '2012-10-31'\n",
    "      UNION ALL\n",
    "      SELECT pickup_datetime FROM uber_trips\n",
    "      WHERE pickup_datetime BETWEEN '2012-10-22' AND '2012-10-31')\n",
    "SELECT strftime('%Y-%m-%d %H:00:00:00',hourly_weather.DATE) AS WDATE, COALESCE(COUNT(hired_trips.DATE),0) AS num, HourlyPrecipitation, HourlyWindSpeed\n",
    "FROM hourly_weather\n",
    "LEFT JOIN hired_trips\n",
    "ON WDATE = hired_trips.DATE\n",
    "WHERE WDATE BETWEEN '2012-10-22' AND '2012-10-31'\n",
    "GROUP BY WDATE\n",
    "\"\"\""
   ]
  },
  {
   "cell_type": "code",
   "execution_count": 174,
   "id": "f1c7d967",
   "metadata": {},
   "outputs": [
    {
     "data": {
      "text/plain": [
       "[('2012-10-22 00:00:00:00', 2, 0.0, 7.0),\n",
       " ('2012-10-22 01:00:00:00', 2, 0.0, 5.0),\n",
       " ('2012-10-22 02:00:00:00', 0, 0.0, 7.0),\n",
       " ('2012-10-22 03:00:00:00', 1, 0.0, 0.0),\n",
       " ('2012-10-22 04:00:00:00', 1, 0.0, 0.0),\n",
       " ('2012-10-22 05:00:00:00', 1, 0.0, 0.0),\n",
       " ('2012-10-22 06:00:00:00', 2, 0.0, 5.0),\n",
       " ('2012-10-22 07:00:00:00', 4, 0.0, 3.0),\n",
       " ('2012-10-22 08:00:00:00', 6, 0.0, 3.0),\n",
       " ('2012-10-22 09:00:00:00', 4, 0.0, 5.0),\n",
       " ('2012-10-22 12:00:00:00', 3, 0.0, 11.0),\n",
       " ('2012-10-22 14:00:00:00', 2, 0.0, 7.0),\n",
       " ('2012-10-22 15:00:00:00', 4, 0.0, 6.0),\n",
       " ('2012-10-22 16:00:00:00', 3, 0.0, 3.0),\n",
       " ('2012-10-22 17:00:00:00', 3, 0.0, 7.0),\n",
       " ('2012-10-22 18:00:00:00', 10, 0.0, 5.0),\n",
       " ('2012-10-22 19:00:00:00', 12, 0.0, 5.0),\n",
       " ('2012-10-22 20:00:00:00', 4, 0.0, 3.0),\n",
       " ('2012-10-22 21:00:00:00', 2, 0.0, 0.0),\n",
       " ('2012-10-22 22:00:00:00', 4, 0.0, 3.0),\n",
       " ('2012-10-22 23:00:00:00', 5, 0.0, 3.0),\n",
       " ('2012-10-23 00:00:00:00', 1, 0.0, 3.0),\n",
       " ('2012-10-23 01:00:00:00', 0, 0.0, 0.0),\n",
       " ('2012-10-23 02:00:00:00', 0, 0.0, 3.0),\n",
       " ('2012-10-23 03:00:00:00', 0, 0.0, 0.0),\n",
       " ('2012-10-23 04:00:00:00', 1, 0.0, 3.0),\n",
       " ('2012-10-23 05:00:00:00', 1, 0.0, 0.0),\n",
       " ('2012-10-23 06:00:00:00', 3, 0.0, 0.0),\n",
       " ('2012-10-23 07:00:00:00', 7, 0.0, 0.0),\n",
       " ('2012-10-23 08:00:00:00', 5, 0.0, 0.0),\n",
       " ('2012-10-23 09:00:00:00', 6, 0.0, 3.0),\n",
       " ('2012-10-23 10:00:00:00', 3, 0.0, 0.0),\n",
       " ('2012-10-23 11:00:00:00', 5, 0.0, 3.0),\n",
       " ('2012-10-23 12:00:00:00', 4, 0.0, 0.0),\n",
       " ('2012-10-23 16:00:00:00', 2, 0.0, 3.0),\n",
       " ('2012-10-23 18:00:00:00', 10, 0.0, 5.0),\n",
       " ('2012-10-23 19:00:00:00', 6, 0.0, 0.0),\n",
       " ('2012-10-23 20:00:00:00', 6, 0.019999999552965164, 0.0),\n",
       " ('2012-10-23 21:00:00:00', 5, 0.0, 5.0),\n",
       " ('2012-10-23 22:00:00:00', 5, 0.009999999776482582, 0.0),\n",
       " ('2012-10-23 23:00:00:00', 4, 0.0, 5.0),\n",
       " ('2012-10-24 00:00:00:00', 3, 0.0, 3.0),\n",
       " ('2012-10-24 01:00:00:00', 4, 0.0, 6.0),\n",
       " ('2012-10-24 02:00:00:00', 4, 0.0, 5.0),\n",
       " ('2012-10-24 03:00:00:00', 1, 0.0, 7.0),\n",
       " ('2012-10-24 04:00:00:00', 0, 0.0, 7.0),\n",
       " ('2012-10-24 05:00:00:00', 1, 0.0, 6.0),\n",
       " ('2012-10-24 06:00:00:00', 4, 0.0, 5.0),\n",
       " ('2012-10-24 07:00:00:00', 18, 0.0, 5.0),\n",
       " ('2012-10-24 08:00:00:00', 6, 0.0, 0.0),\n",
       " ('2012-10-24 09:00:00:00', 6, 0.0, 0.0),\n",
       " ('2012-10-24 10:00:00:00', 4, 0.0, 7.0),\n",
       " ('2012-10-24 11:00:00:00', 5, 0.0, 7.0),\n",
       " ('2012-10-24 12:00:00:00', 18, 0.0, 8.0),\n",
       " ('2012-10-24 13:00:00:00', 1, 0.0, 8.0),\n",
       " ('2012-10-24 14:00:00:00', 10, 0.0, 6.0),\n",
       " ('2012-10-24 15:00:00:00', 4, 0.0, 7.0),\n",
       " ('2012-10-24 16:00:00:00', 3, 0.0, 8.0),\n",
       " ('2012-10-24 17:00:00:00', 4, 0.0, 5.0),\n",
       " ('2012-10-24 18:00:00:00', 4, 0.0, 7.0),\n",
       " ('2012-10-24 19:00:00:00', 11, 0.0, 8.0),\n",
       " ('2012-10-24 20:00:00:00', 8, 0.0, 0.0),\n",
       " ('2012-10-24 21:00:00:00', 6, 0.0, 3.0),\n",
       " ('2012-10-24 22:00:00:00', 12, 0.0, 5.0),\n",
       " ('2012-10-24 23:00:00:00', 5, 0.0, 0.0),\n",
       " ('2012-10-25 00:00:00:00', 6, 0.0, 6.0),\n",
       " ('2012-10-25 01:00:00:00', 1, 0.0, 3.0),\n",
       " ('2012-10-25 02:00:00:00', 0, 0.0, 3.0),\n",
       " ('2012-10-25 03:00:00:00', 2, 0.0, 6.0),\n",
       " ('2012-10-25 04:00:00:00', 1, 0.0, 6.0),\n",
       " ('2012-10-25 05:00:00:00', 1, 0.0, 0.0),\n",
       " ('2012-10-25 06:00:00:00', 1, 0.0, 5.0),\n",
       " ('2012-10-25 07:00:00:00', 5, 0.0, 6.0),\n",
       " ('2012-10-25 08:00:00:00', 8, 0.0, 5.0),\n",
       " ('2012-10-25 09:00:00:00', 2, 0.0, 3.0),\n",
       " ('2012-10-25 10:00:00:00', 2, 0.0, 6.0),\n",
       " ('2012-10-25 11:00:00:00', 5, 0.0, 0.0),\n",
       " ('2012-10-25 12:00:00:00', 3, 0.0, 6.0),\n",
       " ('2012-10-25 13:00:00:00', 10, 0.0, 0.0),\n",
       " ('2012-10-25 14:00:00:00', 4, 0.0, 5.0),\n",
       " ('2012-10-25 15:00:00:00', 6, 0.0, 5.0),\n",
       " ('2012-10-25 16:00:00:00', 4, 0.0, 0.0),\n",
       " ('2012-10-25 17:00:00:00', 4, 0.0, 3.0),\n",
       " ('2012-10-25 18:00:00:00', 7, 0.0, 0.0),\n",
       " ('2012-10-25 19:00:00:00', 6, 0.0, 0.0),\n",
       " ('2012-10-25 20:00:00:00', 7, 0.0, 3.0),\n",
       " ('2012-10-25 21:00:00:00', 3, 0.0, 3.0),\n",
       " ('2012-10-25 22:00:00:00', 4, 0.0, 3.0),\n",
       " ('2012-10-25 23:00:00:00', 6, 0.0, 0.0),\n",
       " ('2012-10-26 00:00:00:00', 6, 0.0, 0.0),\n",
       " ('2012-10-26 01:00:00:00', 4, 0.0, 0.0),\n",
       " ('2012-10-26 02:00:00:00', 3, 0.0, 0.0),\n",
       " ('2012-10-26 03:00:00:00', 1, 0.0, 3.0),\n",
       " ('2012-10-26 04:00:00:00', 0, 0.0, 0.0),\n",
       " ('2012-10-26 05:00:00:00', 1, 0.0, 0.0),\n",
       " ('2012-10-26 06:00:00:00', 1, 0.0, 0.0),\n",
       " ('2012-10-26 07:00:00:00', 1, 0.0, 3.0),\n",
       " ('2012-10-26 08:00:00:00', 3, 0.0, 3.0),\n",
       " ('2012-10-26 09:00:00:00', 1, 0.0, 3.0),\n",
       " ('2012-10-26 10:00:00:00', 6, 0.0, 3.0),\n",
       " ('2012-10-26 11:00:00:00', 2, 0.0, 3.0),\n",
       " ('2012-10-26 12:00:00:00', 5, 0.0, 0.0),\n",
       " ('2012-10-26 13:00:00:00', 3, 0.0, 3.0),\n",
       " ('2012-10-26 14:00:00:00', 0, 0.0, 3.0),\n",
       " ('2012-10-26 15:00:00:00', 2, 0.0, 0.0),\n",
       " ('2012-10-26 16:00:00:00', 5, 0.0, 0.0),\n",
       " ('2012-10-26 17:00:00:00', 3, 0.0, 0.0),\n",
       " ('2012-10-26 18:00:00:00', 5, 0.0, 0.0),\n",
       " ('2012-10-26 19:00:00:00', 3, 0.0, 0.0),\n",
       " ('2012-10-26 20:00:00:00', 3, 0.0, 3.0),\n",
       " ('2012-10-26 21:00:00:00', 7, 0.0, 3.0),\n",
       " ('2012-10-26 22:00:00:00', 5, 0.0, 0.0),\n",
       " ('2012-10-26 23:00:00:00', 3, 0.0, 0.0),\n",
       " ('2012-10-27 00:00:00:00', 1, 0.0, 3.0),\n",
       " ('2012-10-27 01:00:00:00', 5, 0.0, 0.0),\n",
       " ('2012-10-27 02:00:00:00', 7, 0.0, 3.0),\n",
       " ('2012-10-27 03:00:00:00', 1, 0.0, 0.0),\n",
       " ('2012-10-27 04:00:00:00', 3, 0.0, 6.0),\n",
       " ('2012-10-27 05:00:00:00', 1, 0.0, 6.0),\n",
       " ('2012-10-27 06:00:00:00', 0, 0.0, 6.0),\n",
       " ('2012-10-27 07:00:00:00', 2, 0.0, 5.0),\n",
       " ('2012-10-27 08:00:00:00', 12, 0.0, 5.0),\n",
       " ('2012-10-27 09:00:00:00', 3, 0.0, 6.0),\n",
       " ('2012-10-27 10:00:00:00', 8, 0.0, 7.0),\n",
       " ('2012-10-27 11:00:00:00', 20, 0.0, 5.0),\n",
       " ('2012-10-27 12:00:00:00', 7, 0.0, 8.0),\n",
       " ('2012-10-27 13:00:00:00', 3, 0.0, 8.0),\n",
       " ('2012-10-27 14:00:00:00', 5, 0.0, 10.0),\n",
       " ('2012-10-27 15:00:00:00', 10, 0.0, 10.0),\n",
       " ('2012-10-27 16:00:00:00', 3, 0.0, 7.0),\n",
       " ('2012-10-27 17:00:00:00', 5, 0.0, 7.0),\n",
       " ('2012-10-27 18:00:00:00', 6, 0.0, 7.0),\n",
       " ('2012-10-27 19:00:00:00', 15, 0.0, 8.0),\n",
       " ('2012-10-27 20:00:00:00', 6, 0.0, 7.0),\n",
       " ('2012-10-27 21:00:00:00', 1, 0.0, 9.0),\n",
       " ('2012-10-27 22:00:00:00', 6, 0.0, 9.0),\n",
       " ('2012-10-27 23:00:00:00', 1, 0.0, 8.0),\n",
       " ('2012-10-28 00:00:00:00', 2, 0.0, 11.0),\n",
       " ('2012-10-28 01:00:00:00', 5, 0.0, 8.0),\n",
       " ('2012-10-28 02:00:00:00', 6, 0.0, 8.0),\n",
       " ('2012-10-28 03:00:00:00', 3, 0.0, 9.0),\n",
       " ('2012-10-28 04:00:00:00', 2, 0.0, 10.0),\n",
       " ('2012-10-28 05:00:00:00', 3, 0.0, 11.0),\n",
       " ('2012-10-28 06:00:00:00', 2, 0.0, 10.0),\n",
       " ('2012-10-28 07:00:00:00', 1, 0.0, 11.0),\n",
       " ('2012-10-28 08:00:00:00', 2, 0.0, 11.0),\n",
       " ('2012-10-28 09:00:00:00', 0, 0.0, 11.0),\n",
       " ('2012-10-28 10:00:00:00', 3, 0.0, 10.0),\n",
       " ('2012-10-28 11:00:00:00', 2, 0.0, 8.0),\n",
       " ('2012-10-28 12:00:00:00', 7, 0.0, 7.0),\n",
       " ('2012-10-28 13:00:00:00', 6, 0.0, 13.0),\n",
       " ('2012-10-28 14:00:00:00', 3, 0.0, 13.0),\n",
       " ('2012-10-28 15:00:00:00', 5, 0.0, 13.0),\n",
       " ('2012-10-28 16:00:00:00', 0, 0.0, 16.0),\n",
       " ('2012-10-28 17:00:00:00', 5, 0.0, 11.0),\n",
       " ('2012-10-28 18:00:00:00', 7, 0.0, 15.0),\n",
       " ('2012-10-28 19:00:00:00', 2, 0.0, 14.0),\n",
       " ('2012-10-28 20:00:00:00', 3, 0.0, 16.0),\n",
       " ('2012-10-28 21:00:00:00', 5, 0.0, 14.0),\n",
       " ('2012-10-28 22:00:00:00', 1, 0.0, 16.0),\n",
       " ('2012-10-28 23:00:00:00', 0, 0.0, 14.0),\n",
       " ('2012-10-29 00:00:00:00', 1, 0.0, 16.0),\n",
       " ('2012-10-29 01:00:00:00', 0, 0.0, 11.0),\n",
       " ('2012-10-29 02:00:00:00', 0, 0.0, 13.0),\n",
       " ('2012-10-29 03:00:00:00', 0, 0.0, 17.0),\n",
       " ('2012-10-29 04:00:00:00', 0, 0.0, 15.0),\n",
       " ('2012-10-29 05:00:00:00', 2, 0.0, 15.0),\n",
       " ('2012-10-29 06:00:00:00', 0, 0.019999999552965164, 16.0),\n",
       " ('2012-10-29 07:00:00:00', 2, 0.019999999552965164, 17.0),\n",
       " ('2012-10-29 08:00:00:00', 0, 0.0, 21.0),\n",
       " ('2012-10-29 09:00:00:00', 5, 0.0, 16.0),\n",
       " ('2012-10-29 11:00:00:00', 0, 0.0, 21.0),\n",
       " ('2012-10-29 12:00:00:00', 20, 0.019999999552965164, 15.0),\n",
       " ('2012-10-29 13:00:00:00', 6, 0.019999999552965164, 24.0),\n",
       " ('2012-10-29 14:00:00:00', 0, 0.029999999329447746, 23.0),\n",
       " ('2012-10-29 15:00:00:00', 2, 0.07000000029802322, 26.0),\n",
       " ('2012-10-29 16:00:00:00', 3, 0.10000000149011612, 23.0),\n",
       " ('2012-10-29 17:00:00:00', 0, 0.03999999910593033, 29.0),\n",
       " ('2012-10-29 18:00:00:00', 0, 0.019999999552965164, 21.0),\n",
       " ('2012-10-29 19:00:00:00', 1, 0.009999999776482582, 25.0),\n",
       " ('2012-10-29 20:00:00:00', 1, 0.0, 17.0),\n",
       " ('2012-10-29 21:00:00:00', 0, 0.0, 15.0),\n",
       " ('2012-10-29 22:00:00:00', 0, 0.019999999552965164, 9.0),\n",
       " ('2012-10-29 23:00:00:00', 0, 0.029999999329447746, 7.0),\n",
       " ('2012-10-30 00:00:00:00', 0, 0.029999999329447746, 13.0),\n",
       " ('2012-10-30 01:00:00:00', 0, 0.0, 13.0),\n",
       " ('2012-10-30 02:00:00:00', 0, 0.029999999329447746, 9.0),\n",
       " ('2012-10-30 03:00:00:00', 0, 0.03999999910593033, 17.0),\n",
       " ('2012-10-30 04:00:00:00', 0, 0.0, 9.0),\n",
       " ('2012-10-30 05:00:00:00', 0, 0.009999999776482582, 7.0),\n",
       " ('2012-10-30 06:00:00:00', 0, 0.009999999776482582, 7.0),\n",
       " ('2012-10-30 07:00:00:00', 0, 0.0, 10.0),\n",
       " ('2012-10-30 08:00:00:00', 0, 0.009999999776482582, 11.0),\n",
       " ('2012-10-30 09:00:00:00', 3, 0.009999999776482582, 15.0),\n",
       " ('2012-10-30 10:00:00:00', 3, 0.019999999552965164, 8.0),\n",
       " ('2012-10-30 11:00:00:00', 0, 0.0, 7.0),\n",
       " ('2012-10-30 12:00:00:00', 2, 0.0, 9.0),\n",
       " ('2012-10-30 13:00:00:00', 6, 0.0, 7.0),\n",
       " ('2012-10-30 16:00:00:00', 0, 0.009999999776482582, 3.0),\n",
       " ('2012-10-30 17:00:00:00', 0, 0.0, 6.0),\n",
       " ('2012-10-30 18:00:00:00', 3, 0.0, 5.0),\n",
       " ('2012-10-30 19:00:00:00', 1, 0.0, 3.0),\n",
       " ('2012-10-30 20:00:00:00', 4, 0.0, 0.0),\n",
       " ('2012-10-30 21:00:00:00', 2, 0.0, 5.0),\n",
       " ('2012-10-30 22:00:00:00', 4, 0.0, 7.0),\n",
       " ('2012-10-30 23:00:00:00', 6, 0.0, 5.0)]"
      ]
     },
     "execution_count": 174,
     "metadata": {},
     "output_type": "execute_result"
    }
   ],
   "source": [
    "engine.execute(QUERY_6).fetchall()"
   ]
  },
  {
   "cell_type": "code",
   "execution_count": 175,
   "id": "27b02c3b",
   "metadata": {},
   "outputs": [],
   "source": [
    "write_query_to_file(QUERY_6, \"hurricane_sandy.sql\")"
   ]
  },
  {
   "cell_type": "markdown",
   "id": "76289b0c",
   "metadata": {},
   "source": [
    "## Part 4: Visualizing the Data\n",
    "\n",
    "To better display the data, we will visualize the data."
   ]
  },
  {
   "cell_type": "markdown",
   "id": "6d9eef42",
   "metadata": {},
   "source": [
    "### Visualization 1\n",
    "\n",
    "We will create an histogram to show the most popular hour of the day to take a yellow taxi. The histogram can show us the relative popularity of each hour."
   ]
  },
  {
   "cell_type": "code",
   "execution_count": 180,
   "id": "0de8394c",
   "metadata": {},
   "outputs": [],
   "source": [
    "def hour_for_taxi_trip():\n",
    "    '''Plot the number of taxi trips per hour of the day.'''\n",
    "\n",
    "    df = pd.read_sql_query(QUERY_1, engine).sort_values(by=\"time\", ascending=True)\n",
    "    df.plot(x=\"time\", y=\"num\",kind=\"bar\", title=\"Num of Taxi Trips per Hour\", xlabel=\"Hour\", ylabel=\"Number of Trips\")"
   ]
  },
  {
   "cell_type": "markdown",
   "id": "eb4a885d",
   "metadata": {},
   "source": [
    "As shown below, the most popular hour is 17:00, and the least popular hour is 04:00. Generally speaking, there are more people who take taxis in the evening rush hour, and fewer people take taxis in the middle of the night."
   ]
  },
  {
   "cell_type": "code",
   "execution_count": 184,
   "id": "3c63e845",
   "metadata": {},
   "outputs": [
    {
     "data": {
      "image/png": "[encoded data removed]",
      "text/plain": [
       "<Figure size 640x480 with 1 Axes>"
      ]
     },
     "metadata": {},
     "output_type": "display_data"
    }
   ],
   "source": [
    "hour_for_taxi_trip()"
   ]
  },
  {
   "cell_type": "markdown",
   "id": "c785a7ab",
   "metadata": {},
   "source": [
    "### Visualization 2\n",
    "\n",
    "We will create a line chart to show the average distance traveled per month and its 90% confidence interval around the mean. The line chart can display the line and the confidence interval better than other charts. Considering the sample size is small, we will calculate the confidence interval under t-distribution.\n"
   ]
  },
  {
   "cell_type": "code",
   "execution_count": 247,
   "id": "ab7c7b1d",
   "metadata": {},
   "outputs": [],
   "source": [
    "def avg_distance_per_month():\n",
    "    '''Plot a line chart to show the average distance traveled per month and its 90% confidence interval around the mean'''\n",
    "\n",
    "    taxi_query=\"\"\"SELECT strftime('%Y-%m', pickup_datetime) AS year_month, SUM(distance) AS distance\n",
    "    FROM taxi_trips\n",
    "    GROUP BY year_month\n",
    "    \"\"\"\n",
    "    uber_query=\"\"\"SELECT strftime('%Y-%m', pickup_datetime) AS year_month, SUM(distance) AS distance\n",
    "    FROM uber_trips\n",
    "    GROUP BY year_month\n",
    "    \"\"\"\n",
    "\n",
    "    # get the data from the database\n",
    "    taxi_df = pd.read_sql_query(taxi_query, engine)\n",
    "    uber_df = pd.read_sql_query(uber_query, engine)\n",
    "    \n",
    "    # change the data type of the year_month column to datetime\n",
    "    taxi_df['year_month'] = pd.to_datetime(taxi_df['year_month'], format='%Y-%m')\n",
    "    uber_df['year_month'] = pd.to_datetime(uber_df['year_month'], format='%Y-%m')\n",
    "\n",
    "    # calculate the mean, standard error and dof of the distance\n",
    "    taxi_df = taxi_df['distance'].groupby(taxi_df['year_month'].dt.month).agg(['mean', 'count', 'sem'])\n",
    "    uber_df = uber_df['distance'].groupby(uber_df['year_month'].dt.month).agg(['mean', 'count', 'sem'])\n",
    "    taxi_df['dof'] = taxi_df['count'] - 1\n",
    "    uber_df['dof'] = uber_df['count'] - 1\n",
    "\n",
    "    # calculate the 90% confidence interval\n",
    "    taxi_low_CI_bound, taxi_high_CI_bound = stats.t.interval(0.90, taxi_df['dof'], loc=taxi_df['mean'], scale=taxi_df['sem'])\n",
    "    uber_low_CI_bound, uber_high_CI_bound = stats.t.interval(0.90, uber_df['dof'], loc=uber_df['mean'], scale=uber_df['sem'])\n",
    "\n",
    "    # plot the line chart\n",
    "    plt.plot(taxi_df.index, taxi_df['mean'], color='blue', label='Taxi')\n",
    "    plt.plot(uber_df.index, uber_df['mean'], color='red', label='Uber')\n",
    "    plt.fill_between(taxi_df.index, taxi_low_CI_bound, taxi_high_CI_bound, color='blue', alpha=0.2)\n",
    "    plt.fill_between(uber_df.index, uber_low_CI_bound, uber_high_CI_bound, color='red', alpha=0.2)\n",
    "    plt.title('Average Distance Traveled per Month')\n",
    "    plt.xlabel('Month')\n",
    "    plt.ylabel('Average Distance Traveled')\n",
    "    plt.legend()\n",
    "    plt.show()\n",
    "    \n"
   ]
  },
  {
   "cell_type": "markdown",
   "id": "758093c7",
   "metadata": {},
   "source": [
    "As shown below, the trips' average distance per month is almost the same."
   ]
  },
  {
   "cell_type": "code",
   "execution_count": 248,
   "id": "53acdc5f",
   "metadata": {},
   "outputs": [
    {
     "data": {
      "image/png": "[encoded data removed]",
      "text/plain": [
       "<Figure size 640x480 with 1 Axes>"
      ]
     },
     "metadata": {},
     "output_type": "display_data"
    }
   ],
   "source": [
    "avg_distance_per_month()"
   ]
  },
  {
   "cell_type": "markdown",
   "id": "e957bac9",
   "metadata": {},
   "source": [
    "### Visualization 3\n",
    "\n",
    "Define three lat/long coordinate boxes around the three major New York airports: LGA, JFK, and EWR and create a multi-bar chart that compares what day of the week was most popular for drop offs for each airport. The multi-bar chart can show us the most popular day of the week for each airport simultaneously."
   ]
  },
  {
   "cell_type": "code",
   "execution_count": 41,
   "id": "34bd79e1",
   "metadata": {},
   "outputs": [],
   "source": [
    "def dropoff_num_for_each_day(dataframes):\n",
    "    '''\n",
    "    Plot a line chart to show the number of dropoffs for each day.\n",
    "    '''\n",
    "    dataframes[0]['JFK'] = dataframes[1]['JFK']\n",
    "    dataframes[0]['EWR'] = dataframes[2]['EWR']\n",
    "    dataframes[0].plot(x=\"day\", y=[\"LGA\",'JFK','EWR'], kind=\"bar\", title=\"Number of Dropoffs for Each Day for each Airport\", xlabel=\"Day\", ylabel=\"Number of Dropoffs\")"
   ]
  },
  {
   "cell_type": "code",
   "execution_count": 42,
   "id": "7f028b7d",
   "metadata": {},
   "outputs": [],
   "source": [
    "def get_data_for_visual_3():\n",
    "    '''\n",
    "    Returns the number of dropoffs for each day of the week for each airport.\n",
    "    '''\n",
    "    LGA_BBOX = [-73.889473,40.766102,-73.857630,40.782806,'LGA']\n",
    "    JFK_BBOX = [-73.826978,40.618945,-73.741319,40.673388,'JFK']\n",
    "    EWR_BBOX = [-74.199343,40.668791,-74.150248,40.712069,'EWR']\n",
    "    df = []\n",
    "    for BBOX in [LGA_BBOX, JFK_BBOX, EWR_BBOX]:\n",
    "        query = f'''WITH hired_trips AS (SELECT pickup_datetime,dropoff_longitude,dropoff_latitude\n",
    "        FROM taxi_trips UNION ALL\n",
    "        SELECT pickup_datetime,dropoff_longitude,dropoff_latitude FROM uber_trips)\n",
    "        SELECT strftime('%w', pickup_datetime) AS day ,COUNT(*) AS {BBOX[4]}\n",
    "        FROM hired_trips\n",
    "        WHERE dropoff_longitude BETWEEN {BBOX[0]} AND {BBOX[2]} AND dropoff_latitude BETWEEN {BBOX[1]} AND {BBOX[3]}\n",
    "        GROUP BY day\n",
    "        '''\n",
    "        df.append(pd.read_sql_query(query, engine))\n",
    "    return df"
   ]
  },
  {
   "cell_type": "code",
   "execution_count": 43,
   "id": "e9c11d7e",
   "metadata": {},
   "outputs": [
    {
     "data": {
      "image/png": "[encoded data removed]",
      "text/plain": [
       "<Figure size 640x480 with 1 Axes>"
      ]
     },
     "metadata": {},
     "output_type": "display_data"
    }
   ],
   "source": [
    "some_dataframe = get_data_for_visual_3()\n",
    "dropoff_num_for_each_day(some_dataframe)"
   ]
  },
  {
   "cell_type": "markdown",
   "id": "b9a02f48",
   "metadata": {},
   "source": [
    "### Visualization 4\n",
    "\n",
    "Create a heatmap of all hired trips over a map of the area. The heatmap can show us the density of the hired trips in the area."
   ]
  },
  {
   "cell_type": "code",
   "execution_count": 45,
   "id": "b6a6e375",
   "metadata": {},
   "outputs": [],
   "source": [
    "def heatmap_for_trips(dataframe):\n",
    "    '''\n",
    "    Make a heatmap of all hired trips over a map of the area.\n",
    "    args:\n",
    "        dataframe: the dataframe\n",
    "    '''\n",
    "    # reindex the GEO\n",
    "    geo_loc = GEO.reset_index()\n",
    "\n",
    "    # make a key from the latitude and longitude\n",
    "    geo_loc['key'] = geo_loc['latitude'] ** 2 +  geo_loc['longitude'] ** 2\n",
    "    dataframe['key'] = dataframe['latitude'] ** 2 +  dataframe['longitude'] ** 2\n",
    "\n",
    "    # sort the key\n",
    "    geo_loc.sort_values(by='key', inplace=True)\n",
    "    dataframe.sort_values(by='key', inplace=True)\n",
    "\n",
    "    # join the two dataframes\n",
    "    dataframe = pd.merge_asof(dataframe, geo_loc, left_on=[\"key\"],right_on=[\"key\"])\n",
    "    dataframe.dropna(subset=[\"LocationID\"], inplace=True)\n",
    "\n",
    "    geo_loc['num'] = dataframe.groupby(\"LocationID\").count()['key']\n",
    "    geo_loc.plot(column='num', cmap='coolwarm', legend=False)\n",
    "    plt.axis('off')\n",
    "    plt.show()"
   ]
  },
  {
   "cell_type": "code",
   "execution_count": 46,
   "id": "75f57d24",
   "metadata": {},
   "outputs": [],
   "source": [
    "def get_data_for_visual_4():\n",
    "    '''\n",
    "    Returns the data for the visualization.\n",
    "    '''\n",
    "\n",
    "    query = '''WITH hired_trips AS (SELECT pickup_latitude AS latitude, pickup_longitude AS longitude\n",
    "    FROM taxi_trips UNION ALL\n",
    "    SELECT pickup_latitude AS latitude, pickup_longitude AS longitude FROM uber_trips)\n",
    "    SELECT latitude, longitude\n",
    "    FROM hired_trips\n",
    "    '''\n",
    "    df = pd.read_sql_query(query, engine)\n",
    "\n",
    "    return df"
   ]
  },
  {
   "cell_type": "code",
   "execution_count": 51,
   "id": "fb7d98e1",
   "metadata": {},
   "outputs": [
    {
     "data": {
      "image/png": "[encoded data removed]",
      "text/plain": [
       "<Figure size 640x480 with 1 Axes>"
      ]
     },
     "metadata": {},
     "output_type": "display_data"
    }
   ],
   "source": [
    "some_dataframe = get_data_for_visual_4()\n",
    "heatmap_for_trips(some_dataframe)"
   ]
  },
  {
   "cell_type": "markdown",
   "id": "3e0e1620",
   "metadata": {},
   "source": [
    "### Visualization 5\n",
    "\n",
    "Create a scatter plot that compares tip amount versus distance. A scatter plot can show us the relationship between tip amount and distance."
   ]
  },
  {
   "cell_type": "code",
   "execution_count": 55,
   "id": "3b848eca",
   "metadata": {},
   "outputs": [],
   "source": [
    "# use a more descriptive name for your function\n",
    "def tip_amount_vs_distance(dataframe):\n",
    "    '''\n",
    "    Create a scatter plot that compares tip amount versus distance.\n",
    "    '''\n",
    "    # sample the data to make the scatter plot clearer\n",
    "    dataframe[(dataframe['distance'] < 100) & (dataframe['tip_amount'] < 100)].sample(200).plot(x=\"distance\", y=\"tip_amount\", kind=\"scatter\", title=\"Tip Amount vs Distance\", xlabel=\"Distance\", ylabel=\"Tip Amount\")"
   ]
  },
  {
   "cell_type": "code",
   "execution_count": 56,
   "id": "952407c0",
   "metadata": {},
   "outputs": [],
   "source": [
    "def get_data_for_visual_5():\n",
    "    '''\n",
    "    Returns the data for the visualization.\n",
    "    '''\n",
    "\n",
    "    query = '''SELECT tip_amount, distance\n",
    "    FROM taxi_trips\n",
    "    '''\n",
    "    df = pd.read_sql_query(query, engine)\n",
    "    return df"
   ]
  },
  {
   "cell_type": "code",
   "execution_count": 57,
   "id": "d630b5b4",
   "metadata": {},
   "outputs": [
    {
     "data": {
      "image/png": "[encoded data removed]",
      "text/plain": [
       "<Figure size 640x480 with 1 Axes>"
      ]
     },
     "metadata": {},
     "output_type": "display_data"
    }
   ],
   "source": [
    "some_dataframe = get_data_for_visual_5()\n",
    "tip_amount_vs_distance(some_dataframe)"
   ]
  },
  {
   "cell_type": "markdown",
   "id": "0ea579fe",
   "metadata": {},
   "source": [
    "### Visualization 6\n",
    "\n",
    "Create another scatter plot that compares tip amount versus precipitation amount."
   ]
  },
  {
   "cell_type": "code",
   "execution_count": 79,
   "id": "9faa73ee",
   "metadata": {},
   "outputs": [],
   "source": [
    "def tip_amount_vs_precipitation(dataframe):\n",
    "    '''\n",
    "    Create another scatter plot that compares tip amount versus precipitation amount.\n",
    "    '''\n",
    "\n",
    "    df = pd.merge(dataframe[0], dataframe[1], on='DATE')\n",
    "    df = df[(df['precipitation'] > 0)]\n",
    "    \n",
    "    # sample the data to make the scatter plot clearer\n",
    "    df.sample(200).plot(x=\"precipitation\", y=\"tip_amount\", kind=\"scatter\", title=\"Tip Amount vs Precipitation\", xlabel=\"Precipitation\", ylabel=\"Tip Amount\")\n",
    "    "
   ]
  },
  {
   "cell_type": "code",
   "execution_count": 80,
   "id": "bf9eaf20",
   "metadata": {},
   "outputs": [],
   "source": [
    "def get_data_for_visual_6():\n",
    "    '''\n",
    "    Returns the data for the visualization.\n",
    "    '''\n",
    "    \n",
    "    df = []\n",
    "    query1 = '''\n",
    "    SELECT strftime('%Y-%m-%d', pickup_datetime) AS DATE, SUM(taxi_trips.tip_amount) AS tip_amount\n",
    "    FROM taxi_trips\n",
    "    GROUP BY strftime('%Y-%m-%d', pickup_datetime)\n",
    "    ''' \n",
    "    query2 ='''\n",
    "    SELECT strftime('%Y-%m-%d', DATE) AS DATE, DailyPrecipitation AS precipitation\n",
    "    FROM daily_weather\n",
    "    '''\n",
    "    df.append(pd.read_sql_query(query1, engine))\n",
    "    df.append(pd.read_sql_query(query2, engine))\n",
    "\n",
    "    return df"
   ]
  },
  {
   "cell_type": "code",
   "execution_count": 81,
   "id": "52b5de32",
   "metadata": {},
   "outputs": [
    {
     "data": {
      "image/png": "[encoded data removed]",
      "text/plain": [
       "<Figure size 640x480 with 1 Axes>"
      ]
     },
     "metadata": {},
     "output_type": "display_data"
    }
   ],
   "source": [
    "some_dataframe = get_data_for_visual_6()\n",
    "tip_amount_vs_precipitation(some_dataframe)"
   ]
  },
  {
   "cell_type": "markdown",
   "id": "d78cd982",
   "metadata": {},
   "source": [
    "## Unit Tests\n",
    "\n",
    "We will write unit tests for the functions we defined in the project. Unit tests can help us find bugs in our code."
   ]
  },
  {
   "cell_type": "code",
   "execution_count": 150,
   "id": "100585be",
   "metadata": {},
   "outputs": [],
   "source": [
    "import unittest\n",
    "\n",
    "class TestNotebook(unittest.TestCase):\n",
    "    \"\"\"Tests for each function in the notebook.\"\"\"\n",
    "\n",
    "    def test_calculate_distance(self):\n",
    "        \"\"\"Test the calculate_distance function.\"\"\"\n",
    "\n",
    "        from_coord = pd.DataFrame({'pickup_latitude': [40.738353, 40.728225, 40.74077], 'pickup_longitude': [-73.999816, -73.994355, -74.005043]})\n",
    "        to_coord = pd.DataFrame({'dropoff_latitude': [40.723217, 40.750325, 40.772647], 'dropoff_longitude': [-73.999511, -73.99471, -73.962565]})\n",
    "        distance = pd.Series([1.683, 2.457, 5.036]) # get the distance from https://www.hhlink.com/%E7%BB%8F%E7%BA%AC%E5%BA%A6\n",
    "\n",
    "        cal_distance = calculate_distance(from_coord, to_coord)\n",
    "\n",
    "        assert np.allclose(cal_distance, distance, atol=1e-03) == True\n",
    "    \n",
    "    def test_add_distance_column(self):\n",
    "        \"\"\"Test the add_distance_column function.\"\"\"\n",
    "\n",
    "        df = pd.DataFrame({'pickup_latitude': [40.738353, 40.728225, 40.74077], 'pickup_longitude': [-73.999816, -73.994355, -74.005043], 'dropoff_latitude': [40.723217, 40.750325, 40.772647], 'dropoff_longitude': [-73.999511, -73.99471, -73.962565]})\n",
    "        df = add_distance_column(df)\n",
    "\n",
    "        assert df['distance'].isnull().values.any() == False\n",
    "    \n",
    "    def test_find_taxi_parquet_urls(self):\n",
    "        \"\"\"Test the find_taxi_parquet_urls function.\"\"\"\n",
    "\n",
    "        urls = find_taxi_parquet_urls()\n",
    "        assert len(urls) == 78\n",
    "        assert urls[0] == 'https://d37ci6vzurychx.cloudfront.net/trip-data/yellow_tripdata_2015-01.parquet'\n",
    "    \n",
    "    def test_get_and_clean_month_taxi_data(self):\n",
    "        \"\"\"Test the get_and_clean_month_taxi_data function.\"\"\"\n",
    "\n",
    "        url = 'https://d37ci6vzurychx.cloudfront.net/trip-data/yellow_tripdata_2015-01.parquet'\n",
    "        df = get_and_clean_month_taxi_data(url)\n",
    "\n",
    "        assert df.shape[0] < 3000\n",
    "        assert df.notnull().values.any() == True\n",
    "        assert list(df.columns) == ['pickup_datetime', 'pickup_longitude', 'pickup_latitude', 'dropoff_longitude', 'dropoff_latitude', 'tip_amount']\n",
    "        assert df.dtypes['pickup_datetime'] == 'datetime64[ns]'\n",
    "        assert df.dtypes['pickup_longitude'] == 'float32'\n",
    "        assert df.dtypes['pickup_latitude'] == 'float32'\n",
    "        assert df.dtypes['dropoff_longitude'] == 'float32'\n",
    "        assert df.dtypes['dropoff_latitude'] == 'float32'\n",
    "        assert df.dtypes['tip_amount'] == 'float32'\n",
    "    \n",
    "    def test_get_and_clean_taxi_data(self):\n",
    "        \"\"\"Test the get_and_clean_taxi_data function.\"\"\"\n",
    "\n",
    "        urls = ['https://d37ci6vzurychx.cloudfront.net/trip-data/yellow_tripdata_2014-01.parquet','https://d37ci6vzurychx.cloudfront.net/trip-data/yellow_tripdata_2009-01.parquet']\n",
    "        df = get_and_clean_taxi_data(urls)\n",
    "        print(df.columns)\n",
    "\n",
    "        assert df.shape[0] > 4000\n",
    "        assert df.notnull().values.any() == True\n",
    "        assert list(df.columns) == ['pickup_datetime', 'pickup_longitude', 'pickup_latitude', 'dropoff_longitude', 'dropoff_latitude', 'tip_amount', 'distance']\n",
    "        assert df.dtypes['pickup_datetime'] == 'datetime64[ns]'\n",
    "        assert df.dtypes['pickup_longitude'] == 'float32'\n",
    "        assert df.dtypes['pickup_latitude'] == 'float32'\n",
    "        assert df.dtypes['dropoff_longitude'] == 'float32'\n",
    "        assert df.dtypes['dropoff_latitude'] == 'float32'\n",
    "        assert df.dtypes['tip_amount'] == 'float32'\n",
    "        assert df.dtypes['distance'] == 'float32'\n",
    "    \n",
    "    def test_load_and_clean_uber_data(self):\n",
    "        \"\"\"Test the load_and_clean_uber_data function.\"\"\"\n",
    "\n",
    "        df = load_and_clean_uber_data()\n",
    "\n",
    "        assert df.shape == (195472, 6)\n",
    "        assert list(df.columns) == ['pickup_datetime', 'pickup_longitude', 'pickup_latitude',\n",
    "       'dropoff_longitude', 'dropoff_latitude', 'distance']\n",
    "\n",
    "    def test_clean_month_weather_data_hourly(self):\n",
    "        \"\"\"Test the clean_month_weather_data_hourly function.\"\"\"\n",
    "\n",
    "        csv_file = '2009_weather.csv'\n",
    "        df = clean_month_weather_data_hourly(csv_file)\n",
    "\n",
    "        assert list(df.columns) == ['DATE', 'HourlyWindSpeed', 'HourlyPrecipitation']\n",
    "        assert df.dtypes['DATE'] == 'datetime64[ns]'\n",
    "        assert df.dtypes['HourlyWindSpeed'] == 'float32'\n",
    "        assert df.dtypes['HourlyPrecipitation'] == 'float32'\n",
    "\n",
    "    def test_clean_month_weather_data_daily(self):\n",
    "        \"\"\"Test the clean_month_weather_data_daily function.\"\"\"\n",
    "\n",
    "        csv_file = '2009_weather.csv'\n",
    "        df, df_sun = clean_month_weather_data_daily(csv_file)\n",
    "\n",
    "        assert list(df.columns) == ['DATE', 'DailyWindSpeed', 'DailyPrecipitation']\n",
    "        assert df.dtypes['DATE'] == 'datetime64[ns]'\n",
    "        assert df.dtypes['DailyWindSpeed'] == 'float32'\n",
    "        assert df.dtypes['DailyPrecipitation'] == 'float32'\n",
    "        assert list(df_sun.columns) == ['DATE', 'Sunrise', 'Sunset']\n",
    "        assert df_sun.dtypes['DATE'] == 'datetime64[ns]'\n",
    "        assert df_sun.dtypes['Sunset'] == 'int32'\n",
    "        assert df_sun.dtypes['Sunrise'] == 'int32'\n",
    "\n",
    "    def test_load_and_clean_weather_data(self):\n",
    "        \"\"\"Test the load_and_clean_weather_data function.\"\"\"\n",
    "\n",
    "        hourly_data, daily_data, sun_data = load_and_clean_weather_data()\n",
    "\n",
    "        assert list(hourly_data.columns) == ['DATE', 'HourlyWindSpeed', 'HourlyPrecipitation']\n",
    "        assert list(daily_data.columns) == ['DATE', 'DailyWindSpeed', 'DailyPrecipitation']\n",
    "        assert list(sun_data.columns) == ['DATE', 'Sunrise', 'Sunset']\n",
    "\n",
    "    def test_write_query_to_file(self):\n",
    "        \"\"\"Test the write_query_to_file function.\"\"\"\n",
    "\n",
    "        import tempfile\n",
    "        outfile_path = tempfile.mkstemp()[1]\n",
    "\n",
    "        query = 'SELECT * FROM taxi_data'\n",
    "        write_query_to_file(query, outfile_path)\n",
    "\n",
    "        with open(outfile_path, 'r') as f:\n",
    "            query = f.read()\n",
    "        assert query == 'SELECT * FROM taxi_data'\n",
    "\n"
   ]
  },
  {
   "cell_type": "code",
   "execution_count": 153,
   "id": "dfcbdc57",
   "metadata": {},
   "outputs": [
    {
     "name": "stderr",
     "output_type": "stream",
     "text": [
      "test_write_query_to_file (__main__.TestNotebook)\n",
      "Test the write_query_to_file function. ... ok\n",
      "\n",
      "----------------------------------------------------------------------\n",
      "Ran 1 test in 0.005s\n",
      "\n",
      "OK\n"
     ]
    },
    {
     "data": {
      "text/plain": [
       "<unittest.main.TestProgram at 0x7fa0f7cbf8e0>"
      ]
     },
     "execution_count": 153,
     "metadata": {},
     "output_type": "execute_result"
    }
   ],
   "source": [
    "unittest.main(argv=[''], verbosity=2, exit=False)"
   ]
  }
 ],
 "metadata": {
  "kernelspec": {
   "display_name": "Python 3.9.15 64-bit",
   "language": "python",
   "name": "python3"
  },
  "language_info": {
   "codemirror_mode": {
    "name": "ipython",
    "version": 3
   },
   "file_extension": ".py",
   "mimetype": "text/x-python",
   "name": "python",
   "nbconvert_exporter": "python",
   "pygments_lexer": "ipython3",
   "version": "3.9.15"
  },
  "vscode": {
   "interpreter": {
    "hash": "dc50670726e829d05772f0a8941686a10215a3e79c3aeb954cea988b6ae2af0c"
   }
  }
 },
 "nbformat": 4,
 "nbformat_minor": 5
}
